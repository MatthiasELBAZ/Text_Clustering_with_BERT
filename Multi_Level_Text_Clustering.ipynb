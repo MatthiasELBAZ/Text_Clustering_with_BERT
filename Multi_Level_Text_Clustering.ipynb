{
  "nbformat": 4,
  "nbformat_minor": 0,
  "metadata": {
    "colab": {
      "name": "Multi_Level_Text_Clustering.ipynb",
      "provenance": [],
      "collapsed_sections": [
        "mJZm_MT7zJzZ",
        "3tZbf-VEj6Id",
        "Gp5rI2-dF9Eh",
        "4lXNk-U0XQKr",
        "frmC9f_Tf44i",
        "fdBRWzOtLPhp"
      ],
      "toc_visible": true
    },
    "kernelspec": {
      "name": "python3",
      "display_name": "Python 3"
    },
    "accelerator": "GPU"
  },
  "cells": [
    {
      "cell_type": "markdown",
      "metadata": {
        "id": "QeHUzdww2wHd"
      },
      "source": [
        "# Import Packages"
      ]
    },
    {
      "cell_type": "code",
      "metadata": {
        "id": "6YoIWbGFTqEM",
        "outputId": "073f5180-0f7c-4ee1-8096-25691abd12e6",
        "colab": {
          "base_uri": "https://localhost:8080/"
        }
      },
      "source": [
        "!pip install -U sentence-transformers\n",
        "!pip install umap-learn\n",
        "!pip install pyamg"
      ],
      "execution_count": null,
      "outputs": [
        {
          "output_type": "stream",
          "text": [
            "Collecting sentence-transformers\n",
            "\u001b[?25l  Downloading https://files.pythonhosted.org/packages/f4/fd/0190080aa0af78d7cd5874e4e8e85f0bed9967dd387cf05d760832b95da9/sentence-transformers-0.3.8.tar.gz (66kB)\n",
            "\u001b[K     |████████████████████████████████| 71kB 3.1MB/s \n",
            "\u001b[?25hCollecting transformers<3.4.0,>=3.1.0\n",
            "\u001b[?25l  Downloading https://files.pythonhosted.org/packages/19/22/aff234f4a841f8999e68a7a94bdd4b60b4cebcfeca5d67d61cd08c9179de/transformers-3.3.1-py3-none-any.whl (1.1MB)\n",
            "\u001b[K     |████████████████████████████████| 1.1MB 14.0MB/s \n",
            "\u001b[?25hRequirement already satisfied, skipping upgrade: tqdm in /usr/local/lib/python3.6/dist-packages (from sentence-transformers) (4.41.1)\n",
            "Requirement already satisfied, skipping upgrade: torch>=1.2.0 in /usr/local/lib/python3.6/dist-packages (from sentence-transformers) (1.7.0+cu101)\n",
            "Requirement already satisfied, skipping upgrade: numpy in /usr/local/lib/python3.6/dist-packages (from sentence-transformers) (1.18.5)\n",
            "Requirement already satisfied, skipping upgrade: scikit-learn in /usr/local/lib/python3.6/dist-packages (from sentence-transformers) (0.22.2.post1)\n",
            "Requirement already satisfied, skipping upgrade: scipy in /usr/local/lib/python3.6/dist-packages (from sentence-transformers) (1.4.1)\n",
            "Requirement already satisfied, skipping upgrade: nltk in /usr/local/lib/python3.6/dist-packages (from sentence-transformers) (3.2.5)\n",
            "Collecting sacremoses\n",
            "\u001b[?25l  Downloading https://files.pythonhosted.org/packages/7d/34/09d19aff26edcc8eb2a01bed8e98f13a1537005d31e95233fd48216eed10/sacremoses-0.0.43.tar.gz (883kB)\n",
            "\u001b[K     |████████████████████████████████| 890kB 38.2MB/s \n",
            "\u001b[?25hRequirement already satisfied, skipping upgrade: regex!=2019.12.17 in /usr/local/lib/python3.6/dist-packages (from transformers<3.4.0,>=3.1.0->sentence-transformers) (2019.12.20)\n",
            "Collecting sentencepiece!=0.1.92\n",
            "\u001b[?25l  Downloading https://files.pythonhosted.org/packages/e5/2d/6d4ca4bef9a67070fa1cac508606328329152b1df10bdf31fb6e4e727894/sentencepiece-0.1.94-cp36-cp36m-manylinux2014_x86_64.whl (1.1MB)\n",
            "\u001b[K     |████████████████████████████████| 1.1MB 44.6MB/s \n",
            "\u001b[?25hRequirement already satisfied, skipping upgrade: packaging in /usr/local/lib/python3.6/dist-packages (from transformers<3.4.0,>=3.1.0->sentence-transformers) (20.4)\n",
            "Requirement already satisfied, skipping upgrade: dataclasses; python_version < \"3.7\" in /usr/local/lib/python3.6/dist-packages (from transformers<3.4.0,>=3.1.0->sentence-transformers) (0.7)\n",
            "Collecting tokenizers==0.8.1.rc2\n",
            "\u001b[?25l  Downloading https://files.pythonhosted.org/packages/80/83/8b9fccb9e48eeb575ee19179e2bdde0ee9a1904f97de5f02d19016b8804f/tokenizers-0.8.1rc2-cp36-cp36m-manylinux1_x86_64.whl (3.0MB)\n",
            "\u001b[K     |████████████████████████████████| 3.0MB 53.5MB/s \n",
            "\u001b[?25hRequirement already satisfied, skipping upgrade: filelock in /usr/local/lib/python3.6/dist-packages (from transformers<3.4.0,>=3.1.0->sentence-transformers) (3.0.12)\n",
            "Requirement already satisfied, skipping upgrade: requests in /usr/local/lib/python3.6/dist-packages (from transformers<3.4.0,>=3.1.0->sentence-transformers) (2.23.0)\n",
            "Requirement already satisfied, skipping upgrade: typing-extensions in /usr/local/lib/python3.6/dist-packages (from torch>=1.2.0->sentence-transformers) (3.7.4.3)\n",
            "Requirement already satisfied, skipping upgrade: future in /usr/local/lib/python3.6/dist-packages (from torch>=1.2.0->sentence-transformers) (0.16.0)\n",
            "Requirement already satisfied, skipping upgrade: joblib>=0.11 in /usr/local/lib/python3.6/dist-packages (from scikit-learn->sentence-transformers) (0.17.0)\n",
            "Requirement already satisfied, skipping upgrade: six in /usr/local/lib/python3.6/dist-packages (from nltk->sentence-transformers) (1.15.0)\n",
            "Requirement already satisfied, skipping upgrade: click in /usr/local/lib/python3.6/dist-packages (from sacremoses->transformers<3.4.0,>=3.1.0->sentence-transformers) (7.1.2)\n",
            "Requirement already satisfied, skipping upgrade: pyparsing>=2.0.2 in /usr/local/lib/python3.6/dist-packages (from packaging->transformers<3.4.0,>=3.1.0->sentence-transformers) (2.4.7)\n",
            "Requirement already satisfied, skipping upgrade: idna<3,>=2.5 in /usr/local/lib/python3.6/dist-packages (from requests->transformers<3.4.0,>=3.1.0->sentence-transformers) (2.10)\n",
            "Requirement already satisfied, skipping upgrade: certifi>=2017.4.17 in /usr/local/lib/python3.6/dist-packages (from requests->transformers<3.4.0,>=3.1.0->sentence-transformers) (2020.6.20)\n",
            "Requirement already satisfied, skipping upgrade: urllib3!=1.25.0,!=1.25.1,<1.26,>=1.21.1 in /usr/local/lib/python3.6/dist-packages (from requests->transformers<3.4.0,>=3.1.0->sentence-transformers) (1.24.3)\n",
            "Requirement already satisfied, skipping upgrade: chardet<4,>=3.0.2 in /usr/local/lib/python3.6/dist-packages (from requests->transformers<3.4.0,>=3.1.0->sentence-transformers) (3.0.4)\n",
            "Building wheels for collected packages: sentence-transformers, sacremoses\n",
            "  Building wheel for sentence-transformers (setup.py) ... \u001b[?25l\u001b[?25hdone\n",
            "  Created wheel for sentence-transformers: filename=sentence_transformers-0.3.8-cp36-none-any.whl size=101996 sha256=a62984ed6415dabf9fedd13957dbda56c73860a901a938c482d23b63fa06057e\n",
            "  Stored in directory: /root/.cache/pip/wheels/27/ec/b3/d12cc8e4daf77846db6543033d3a5642f204c0320b15945647\n",
            "  Building wheel for sacremoses (setup.py) ... \u001b[?25l\u001b[?25hdone\n",
            "  Created wheel for sacremoses: filename=sacremoses-0.0.43-cp36-none-any.whl size=893257 sha256=cd6744c86e75272dfd5a948ea7ea39cb7bf2e99e5f1a323f170ddd78cc117b63\n",
            "  Stored in directory: /root/.cache/pip/wheels/29/3c/fd/7ce5c3f0666dab31a50123635e6fb5e19ceb42ce38d4e58f45\n",
            "Successfully built sentence-transformers sacremoses\n",
            "Installing collected packages: sacremoses, sentencepiece, tokenizers, transformers, sentence-transformers\n",
            "Successfully installed sacremoses-0.0.43 sentence-transformers-0.3.8 sentencepiece-0.1.94 tokenizers-0.8.1rc2 transformers-3.3.1\n",
            "Requirement already satisfied: umap-learn in /usr/local/lib/python3.6/dist-packages (0.4.6)\n",
            "Requirement already satisfied: numba!=0.47,>=0.46 in /usr/local/lib/python3.6/dist-packages (from umap-learn) (0.48.0)\n",
            "Requirement already satisfied: scikit-learn>=0.20 in /usr/local/lib/python3.6/dist-packages (from umap-learn) (0.22.2.post1)\n",
            "Requirement already satisfied: scipy>=1.3.1 in /usr/local/lib/python3.6/dist-packages (from umap-learn) (1.4.1)\n",
            "Requirement already satisfied: numpy>=1.17 in /usr/local/lib/python3.6/dist-packages (from umap-learn) (1.18.5)\n",
            "Requirement already satisfied: setuptools in /usr/local/lib/python3.6/dist-packages (from numba!=0.47,>=0.46->umap-learn) (50.3.2)\n",
            "Requirement already satisfied: llvmlite<0.32.0,>=0.31.0dev0 in /usr/local/lib/python3.6/dist-packages (from numba!=0.47,>=0.46->umap-learn) (0.31.0)\n",
            "Requirement already satisfied: joblib>=0.11 in /usr/local/lib/python3.6/dist-packages (from scikit-learn>=0.20->umap-learn) (0.17.0)\n",
            "Collecting pyamg\n",
            "\u001b[?25l  Downloading https://files.pythonhosted.org/packages/bc/1e/979fa78eeccfb5e4c9349dee6f836371982054af339df338d11cf767b3fc/pyamg-4.0.0-cp36-cp36m-manylinux1_x86_64.whl (6.4MB)\n",
            "\u001b[K     |████████████████████████████████| 6.4MB 3.2MB/s \n",
            "\u001b[?25hRequirement already satisfied: scipy>=0.12.0 in /usr/local/lib/python3.6/dist-packages (from pyamg) (1.4.1)\n",
            "Requirement already satisfied: pytest>=2 in /usr/local/lib/python3.6/dist-packages (from pyamg) (3.6.4)\n",
            "Collecting pybind11>=2.2\n",
            "\u001b[?25l  Downloading https://files.pythonhosted.org/packages/92/a5/796ccb611a92cbdf1f6eaa9b2ec9458d5784a7b909efdf8e8afaa3861783/pybind11-2.6.0-py2.py3-none-any.whl (187kB)\n",
            "\u001b[K     |████████████████████████████████| 194kB 44.2MB/s \n",
            "\u001b[?25hRequirement already satisfied: numpy>=1.7.0 in /usr/local/lib/python3.6/dist-packages (from pyamg) (1.18.5)\n",
            "Requirement already satisfied: atomicwrites>=1.0 in /usr/local/lib/python3.6/dist-packages (from pytest>=2->pyamg) (1.4.0)\n",
            "Requirement already satisfied: attrs>=17.4.0 in /usr/local/lib/python3.6/dist-packages (from pytest>=2->pyamg) (20.2.0)\n",
            "Requirement already satisfied: six>=1.10.0 in /usr/local/lib/python3.6/dist-packages (from pytest>=2->pyamg) (1.15.0)\n",
            "Requirement already satisfied: setuptools in /usr/local/lib/python3.6/dist-packages (from pytest>=2->pyamg) (50.3.2)\n",
            "Requirement already satisfied: pluggy<0.8,>=0.5 in /usr/local/lib/python3.6/dist-packages (from pytest>=2->pyamg) (0.7.1)\n",
            "Requirement already satisfied: py>=1.5.0 in /usr/local/lib/python3.6/dist-packages (from pytest>=2->pyamg) (1.9.0)\n",
            "Requirement already satisfied: more-itertools>=4.0.0 in /usr/local/lib/python3.6/dist-packages (from pytest>=2->pyamg) (8.6.0)\n",
            "Installing collected packages: pybind11, pyamg\n",
            "Successfully installed pyamg-4.0.0 pybind11-2.6.0\n"
          ],
          "name": "stdout"
        }
      ]
    },
    {
      "cell_type": "code",
      "metadata": {
        "id": "7w4L1rTMPQs7"
      },
      "source": [
        "import os\n",
        "import numpy as np\n",
        "import pandas as pd\n",
        "from collections import Counter\n",
        "from collections import defaultdict\n",
        "import matplotlib.pyplot as plt\n",
        "from random import sample\n",
        "from numpy.random import uniform\n",
        "import numpy as np\n",
        "from math import isnan\n",
        "import string\n",
        "import re"
      ],
      "execution_count": null,
      "outputs": []
    },
    {
      "cell_type": "code",
      "metadata": {
        "id": "OnHo90hEGLBW"
      },
      "source": [
        ""
      ],
      "execution_count": null,
      "outputs": []
    },
    {
      "cell_type": "markdown",
      "metadata": {
        "id": "vMFHgGyeY_E8"
      },
      "source": [
        "# Import Data and Preprocessing"
      ]
    },
    {
      "cell_type": "code",
      "metadata": {
        "id": "pOQ1Iwc8Y23h"
      },
      "source": [
        "from sklearn.datasets import fetch_20newsgroups"
      ],
      "execution_count": null,
      "outputs": []
    },
    {
      "cell_type": "code",
      "metadata": {
        "id": "p2ocyebPLSo0",
        "outputId": "0b37df88-5eb0-4374-e9b3-5ec2a911f25d",
        "colab": {
          "base_uri": "https://localhost:8080/"
        }
      },
      "source": [
        "# import data 20news from sklearn \n",
        "newsgroups_train = fetch_20newsgroups(subset='train', \n",
        "                                      remove=('headers', 'footers', 'quotes'),\n",
        "                                      random_state=42)\n",
        "# transform into dataframe the text and the targets\n",
        "df = pd.DataFrame([newsgroups_train.data, newsgroups_train.target.tolist()]).T\n",
        "df.columns = ['text', 'target']\n",
        "# transform into dataframe the categories\n",
        "targets = pd.DataFrame( newsgroups_train.target_names)\n",
        "targets.columns=['category']\n",
        "# merge the both\n",
        "data_train = pd.merge(df, targets, left_on='target', right_index=True)\n",
        "# keep only the text and the titlcategoryes associated\n",
        "data_train.reset_index(inplace=True)\n",
        "data_train.drop(['index', 'target'], axis=1, inplace=True)\n",
        "# modify the dataframe for getting a sub categories (5 levels of categories)\n",
        "data_train.category = data_train.category.apply(lambda t: t.split('.'))\n",
        "data_train.category = data_train.category.apply(lambda t: t+['none' for i in range(5-len(t))])\n",
        "s = data_train.category\n",
        "dd = pd.DataFrame.from_dict(dict(zip(s.index, s.values))).T\n",
        "dd.columns = ['sub_cat_0', 'sub_cat_1', 'sub_cat_2', 'sub_cat_3', 'sub_cat_4']\n",
        "data_train = pd.concat([data_train, dd], axis=1)\n",
        "\n",
        "# import data 20news from sklearn \n",
        "newsgroups_train = fetch_20newsgroups(subset='test', \n",
        "                                      remove=('headers', 'footers', 'quotes'),\n",
        "                                      random_state=42)\n",
        "# transform into dataframe the text and the targets\n",
        "df = pd.DataFrame([newsgroups_train.data, newsgroups_train.target.tolist()]).T\n",
        "df.columns = ['text', 'target']\n",
        "# transform into dataframe the categories\n",
        "targets = pd.DataFrame( newsgroups_train.target_names)\n",
        "targets.columns=['category']\n",
        "# merge the both\n",
        "data_test = pd.merge(df, targets, left_on='target', right_index=True)\n",
        "# keep only the text and the titlcategoryes associated\n",
        "data_test.reset_index(inplace=True)\n",
        "data_test.drop(['index', 'target'], axis=1, inplace=True)\n",
        "# modify the dataframe for getting a sub categories (5 levels of categories)\n",
        "data_test.category = data_test.category.apply(lambda t: t.split('.'))\n",
        "data_test.category = data_test.category.apply(lambda t: t+['none' for i in range(5-len(t))])\n",
        "s = data_test.category\n",
        "dd = pd.DataFrame.from_dict(dict(zip(s.index, s.values))).T\n",
        "dd.columns = ['sub_cat_0', 'sub_cat_1', 'sub_cat_2', 'sub_cat_3', 'sub_cat_4']\n",
        "data_test = pd.concat([data_test, dd], axis=1)"
      ],
      "execution_count": null,
      "outputs": [
        {
          "output_type": "stream",
          "text": [
            "Downloading 20news dataset. This may take a few minutes.\n",
            "Downloading dataset from https://ndownloader.figshare.com/files/5975967 (14 MB)\n"
          ],
          "name": "stderr"
        }
      ]
    },
    {
      "cell_type": "code",
      "metadata": {
        "id": "_ruOlpa_Iut7",
        "outputId": "b52757c1-17e2-4522-9830-e40a1eb89eb1",
        "colab": {
          "base_uri": "https://localhost:8080/",
          "height": 589
        }
      },
      "source": [
        "data_train"
      ],
      "execution_count": null,
      "outputs": [
        {
          "output_type": "execute_result",
          "data": {
            "text/html": [
              "<div>\n",
              "<style scoped>\n",
              "    .dataframe tbody tr th:only-of-type {\n",
              "        vertical-align: middle;\n",
              "    }\n",
              "\n",
              "    .dataframe tbody tr th {\n",
              "        vertical-align: top;\n",
              "    }\n",
              "\n",
              "    .dataframe thead th {\n",
              "        text-align: right;\n",
              "    }\n",
              "</style>\n",
              "<table border=\"1\" class=\"dataframe\">\n",
              "  <thead>\n",
              "    <tr style=\"text-align: right;\">\n",
              "      <th></th>\n",
              "      <th>text</th>\n",
              "      <th>category</th>\n",
              "      <th>sub_cat_0</th>\n",
              "      <th>sub_cat_1</th>\n",
              "      <th>sub_cat_2</th>\n",
              "      <th>sub_cat_3</th>\n",
              "      <th>sub_cat_4</th>\n",
              "    </tr>\n",
              "  </thead>\n",
              "  <tbody>\n",
              "    <tr>\n",
              "      <th>0</th>\n",
              "      <td>I was wondering if anyone out there could enli...</td>\n",
              "      <td>[rec, autos, none, none, none]</td>\n",
              "      <td>rec</td>\n",
              "      <td>autos</td>\n",
              "      <td>none</td>\n",
              "      <td>none</td>\n",
              "      <td>none</td>\n",
              "    </tr>\n",
              "    <tr>\n",
              "      <th>1</th>\n",
              "      <td>I recently posted an article asking what kind ...</td>\n",
              "      <td>[rec, autos, none, none, none]</td>\n",
              "      <td>rec</td>\n",
              "      <td>autos</td>\n",
              "      <td>none</td>\n",
              "      <td>none</td>\n",
              "      <td>none</td>\n",
              "    </tr>\n",
              "    <tr>\n",
              "      <th>2</th>\n",
              "      <td>\\nIt depends on your priorities.  A lot of peo...</td>\n",
              "      <td>[rec, autos, none, none, none]</td>\n",
              "      <td>rec</td>\n",
              "      <td>autos</td>\n",
              "      <td>none</td>\n",
              "      <td>none</td>\n",
              "      <td>none</td>\n",
              "    </tr>\n",
              "    <tr>\n",
              "      <th>3</th>\n",
              "      <td>an excellent automatic can be found in the sub...</td>\n",
              "      <td>[rec, autos, none, none, none]</td>\n",
              "      <td>rec</td>\n",
              "      <td>autos</td>\n",
              "      <td>none</td>\n",
              "      <td>none</td>\n",
              "      <td>none</td>\n",
              "    </tr>\n",
              "    <tr>\n",
              "      <th>4</th>\n",
              "      <td>: Ford and his automobile.  I need information...</td>\n",
              "      <td>[rec, autos, none, none, none]</td>\n",
              "      <td>rec</td>\n",
              "      <td>autos</td>\n",
              "      <td>none</td>\n",
              "      <td>none</td>\n",
              "      <td>none</td>\n",
              "    </tr>\n",
              "    <tr>\n",
              "      <th>...</th>\n",
              "      <td>...</td>\n",
              "      <td>...</td>\n",
              "      <td>...</td>\n",
              "      <td>...</td>\n",
              "      <td>...</td>\n",
              "      <td>...</td>\n",
              "      <td>...</td>\n",
              "    </tr>\n",
              "    <tr>\n",
              "      <th>11309</th>\n",
              "      <td>Secrecy in Clipper Chip\\n\\nThe serial number o...</td>\n",
              "      <td>[sci, crypt, none, none, none]</td>\n",
              "      <td>sci</td>\n",
              "      <td>crypt</td>\n",
              "      <td>none</td>\n",
              "      <td>none</td>\n",
              "      <td>none</td>\n",
              "    </tr>\n",
              "    <tr>\n",
              "      <th>11310</th>\n",
              "      <td>Hi !\\n\\nI am interested in the source of FEAL ...</td>\n",
              "      <td>[sci, crypt, none, none, none]</td>\n",
              "      <td>sci</td>\n",
              "      <td>crypt</td>\n",
              "      <td>none</td>\n",
              "      <td>none</td>\n",
              "      <td>none</td>\n",
              "    </tr>\n",
              "    <tr>\n",
              "      <th>11311</th>\n",
              "      <td>The actual algorithm is classified, however, t...</td>\n",
              "      <td>[sci, crypt, none, none, none]</td>\n",
              "      <td>sci</td>\n",
              "      <td>crypt</td>\n",
              "      <td>none</td>\n",
              "      <td>none</td>\n",
              "      <td>none</td>\n",
              "    </tr>\n",
              "    <tr>\n",
              "      <th>11312</th>\n",
              "      <td>\\n\\tThis appears to be generic calling upon th...</td>\n",
              "      <td>[sci, crypt, none, none, none]</td>\n",
              "      <td>sci</td>\n",
              "      <td>crypt</td>\n",
              "      <td>none</td>\n",
              "      <td>none</td>\n",
              "      <td>none</td>\n",
              "    </tr>\n",
              "    <tr>\n",
              "      <th>11313</th>\n",
              "      <td>\\nProbably keep quiet and take it, lest they g...</td>\n",
              "      <td>[sci, crypt, none, none, none]</td>\n",
              "      <td>sci</td>\n",
              "      <td>crypt</td>\n",
              "      <td>none</td>\n",
              "      <td>none</td>\n",
              "      <td>none</td>\n",
              "    </tr>\n",
              "  </tbody>\n",
              "</table>\n",
              "<p>11314 rows × 7 columns</p>\n",
              "</div>"
            ],
            "text/plain": [
              "                                                    text  ... sub_cat_4\n",
              "0      I was wondering if anyone out there could enli...  ...      none\n",
              "1      I recently posted an article asking what kind ...  ...      none\n",
              "2      \\nIt depends on your priorities.  A lot of peo...  ...      none\n",
              "3      an excellent automatic can be found in the sub...  ...      none\n",
              "4      : Ford and his automobile.  I need information...  ...      none\n",
              "...                                                  ...  ...       ...\n",
              "11309  Secrecy in Clipper Chip\\n\\nThe serial number o...  ...      none\n",
              "11310  Hi !\\n\\nI am interested in the source of FEAL ...  ...      none\n",
              "11311  The actual algorithm is classified, however, t...  ...      none\n",
              "11312  \\n\\tThis appears to be generic calling upon th...  ...      none\n",
              "11313  \\nProbably keep quiet and take it, lest they g...  ...      none\n",
              "\n",
              "[11314 rows x 7 columns]"
            ]
          },
          "metadata": {
            "tags": []
          },
          "execution_count": 16
        }
      ]
    },
    {
      "cell_type": "markdown",
      "metadata": {
        "id": "rS9wph0ubq4d"
      },
      "source": [
        "# EDA"
      ]
    },
    {
      "cell_type": "markdown",
      "metadata": {
        "id": "eMSAO18XbtNs"
      },
      "source": [
        "## Sub Cat 0 - Pie graph\n",
        "\n",
        "We want to observe the distribution of the principale category"
      ]
    },
    {
      "cell_type": "code",
      "metadata": {
        "id": "F-Udl-UhZHYq",
        "outputId": "ba3d21ae-9fe8-4198-8065-8d6699f22c73",
        "colab": {
          "base_uri": "https://localhost:8080/",
          "height": 357
        }
      },
      "source": [
        "figure = plt.figure(figsize=(6, 6))\n",
        "\n",
        "sc0, sizes = np.unique(data_train.sub_cat_0, return_counts=True)\n",
        "#sc0_names = [data_train.sub_cat_0.values[i] for i in sc0]\n",
        "\n",
        "patches, _, _ = plt.pie(sizes, autopct='%1.1f%%', wedgeprops={'alpha': 0.8})\n",
        "\n",
        "plt.legend(patches, sc0, loc=(1, 0.0))\n",
        "\n",
        "plt.axis('equal')\n",
        "plt.show()"
      ],
      "execution_count": null,
      "outputs": [
        {
          "output_type": "display_data",
          "data": {
            "image/png": "[encoded data removed]",
            "text/plain": [
              "<Figure size 432x432 with 1 Axes>"
            ]
          },
          "metadata": {
            "tags": []
          }
        }
      ]
    },
    {
      "cell_type": "markdown",
      "metadata": {
        "id": "pt72jfi-ccLY"
      },
      "source": [
        "We notice that categories COMP, SCI, REC and TALK are +/- equally represented. Whereas categories MISC, ALT, SOC are slighlty represented.\n",
        "\n",
        "We can assume that some statistics of the documents are different according to the category."
      ]
    },
    {
      "cell_type": "markdown",
      "metadata": {
        "id": "I7hq7lt3d4uA"
      },
      "source": [
        "## Zipf Law"
      ]
    },
    {
      "cell_type": "code",
      "metadata": {
        "id": "gEMP09HnZH7j"
      },
      "source": [
        "# https://en.wikipedia.org/wiki/Zipf%27s_law\n",
        "\n",
        "def zipfs_law(texts,\n",
        "               low_outlier_percentile_bound=1,\n",
        "               upper_outlier_percentile_bound=99):\n",
        "\n",
        "    counter = Counter(' '.join(texts).split())\n",
        "    frequencies = [freq for word, freq in counter.most_common()]\n",
        "    low_outlier_bound = np.percentile(frequencies, low_outlier_percentile_bound)\n",
        "    upper_outlier_bound = np.percentile(frequencies, upper_outlier_percentile_bound)\n",
        "    frequencies = [freq for freq in frequencies if freq > low_outlier_bound and freq <= upper_outlier_bound]\n",
        "    ranks = range(1, len(frequencies) + 1)\n",
        "\n",
        "    return ranks , frequencies"
      ],
      "execution_count": null,
      "outputs": []
    },
    {
      "cell_type": "code",
      "metadata": {
        "id": "AU-n3c3MZHfu",
        "outputId": "b95d7cff-4c81-4219-b217-e3ed4f016a79",
        "colab": {
          "base_uri": "https://localhost:8080/",
          "height": 404
        }
      },
      "source": [
        "plt.figure(figsize=(12,6))\n",
        "for cat in ['all']+data_train.sub_cat_0.unique().tolist():\n",
        "  if cat=='all':\n",
        "    all_doc = data_train.text.values.tolist()\n",
        "    r_all, f_all = zipfs_law(all_doc)\n",
        "    plt.plot(r_all, f_all, label='all')\n",
        "  else:\n",
        "    sc0_doc = data_train[data_train.sub_cat_0==cat].text.values.tolist()\n",
        "    r_cat, f_cat = zipfs_law(sc0_doc)\n",
        "    plt.plot(r_cat, f_cat, label=cat)\n",
        "plt.legend()\n",
        "plt.title(\"Zipfs Law of all documents and according to principale categories\")\n",
        "plt.xlabel('rank')\n",
        "plt.ylabel('frequency')\n",
        "plt.show()"
      ],
      "execution_count": null,
      "outputs": [
        {
          "output_type": "display_data",
          "data": {
            "image/png": "[encoded data removed]",
            "text/plain": [
              "<Figure size 864x432 with 1 Axes>"
            ]
          },
          "metadata": {
            "tags": [],
            "needs_background": "light"
          }
        }
      ]
    },
    {
      "cell_type": "markdown",
      "metadata": {
        "id": "PttERt_OmTsL"
      },
      "source": [
        "## Heaps Law"
      ]
    },
    {
      "cell_type": "code",
      "metadata": {
        "id": "1ENAUIVEZHQc"
      },
      "source": [
        "def heaps_law(texts):\n",
        "  lengths = [len(t.split()) for t in texts]\n",
        "  num_uniques = [len(set(t.split())) for t in texts]\n",
        "  return lengths, num_uniques"
      ],
      "execution_count": null,
      "outputs": []
    },
    {
      "cell_type": "code",
      "metadata": {
        "id": "cX5jEIaFoSxw",
        "outputId": "eb056c7e-39f8-4256-986d-0f4f1f7dd2f1",
        "colab": {
          "base_uri": "https://localhost:8080/",
          "height": 404
        }
      },
      "source": [
        "plt.figure(figsize=(12,6))\n",
        "\n",
        "for i, cat in enumerate(['all']+data_train.sub_cat_0.unique().tolist()):\n",
        "  if cat=='all':\n",
        "    all_doc = data_train.text.values.tolist()\n",
        "    r_all, f_all = heaps_law(all_doc)\n",
        "    plt.scatter(r_all, f_all, label='all', s=800 - i*100)\n",
        "  else:\n",
        "    sc0_doc = data_train[data_train.sub_cat_0==cat].text.values.tolist()\n",
        "    r_cat, f_cat = heaps_law(sc0_doc)\n",
        "    plt.scatter(r_cat, f_cat, label=cat, s=800-(i+0.75)*100)\n",
        "plt.legend()\n",
        "plt.title(\"Heaps Law of all documents and according to principale categories\")\n",
        "plt.xlabel('document length - word')\n",
        "plt.ylabel('Number of unique tokens')\n",
        "plt.show()"
      ],
      "execution_count": null,
      "outputs": [
        {
          "output_type": "display_data",
          "data": {
            "image/png": "[encoded data removed]",
            "text/plain": [
              "<Figure size 864x432 with 1 Axes>"
            ]
          },
          "metadata": {
            "tags": [],
            "needs_background": "light"
          }
        }
      ]
    },
    {
      "cell_type": "markdown",
      "metadata": {
        "id": "il-tpE87rGg9"
      },
      "source": [
        "## Histogram of documents lengths"
      ]
    },
    {
      "cell_type": "code",
      "metadata": {
        "id": "ZrYwlB_3oSlM"
      },
      "source": [
        "def lengths_histogram(texts,\n",
        "                      low_outlier_percentile_bound=1,\n",
        "                      upper_outlier_percentile_bound=99):\n",
        "  \n",
        "    lengths = [len(t.split()) for t in texts]\n",
        "    low_outlier_bound = np.percentile(lengths, low_outlier_percentile_bound)\n",
        "    upper_outlier_bound = np.percentile(lengths, upper_outlier_percentile_bound)\n",
        "    lengths = [l for l in lengths if l > low_outlier_bound and l <= upper_outlier_bound]\n",
        "    return lengths"
      ],
      "execution_count": null,
      "outputs": []
    },
    {
      "cell_type": "code",
      "metadata": {
        "id": "1W8kJ91IrxOR",
        "outputId": "d07d37d6-3476-40cf-a3ff-e3a68a48c45a",
        "colab": {
          "base_uri": "https://localhost:8080/",
          "height": 404
        }
      },
      "source": [
        "plt.figure(figsize=(12,6))\n",
        "\n",
        "for i, cat in enumerate(['all']+data_train.sub_cat_0.unique().tolist()):\n",
        "  if cat=='all':\n",
        "    all_doc = data_train.text.values.tolist()\n",
        "    r_all = lengths_histogram(all_doc)\n",
        "    plt.hist(r_all, label='all', bins=200)\n",
        "  else:\n",
        "    sc0_doc = data_train[data_train.sub_cat_0==cat].text.values.tolist()\n",
        "    r_cat= lengths_histogram(sc0_doc)\n",
        "    plt.hist(r_cat, label=cat, bins=200)\n",
        "plt.legend()\n",
        "plt.title(\"Lengths Histogram of all documents and according to principale categories\")\n",
        "plt.xlabel('document length - word')\n",
        "plt.ylabel('Number of documents')\n",
        "plt.show()"
      ],
      "execution_count": null,
      "outputs": [
        {
          "output_type": "display_data",
          "data": {
            "image/png": "[encoded data removed]",
            "text/plain": [
              "<Figure size 864x432 with 1 Axes>"
            ]
          },
          "metadata": {
            "tags": [],
            "needs_background": "light"
          }
        }
      ]
    },
    {
      "cell_type": "markdown",
      "metadata": {
        "id": "mJZm_MT7zJzZ"
      },
      "source": [
        "## Relation between each sub categories"
      ]
    },
    {
      "cell_type": "code",
      "metadata": {
        "id": "0YPrFvNxXbCW"
      },
      "source": [
        "for cat in ['sub_cat_0', 'sub_cat_1', 'sub_cat_2', 'sub_cat_3', 'sub_cat_4']:\n",
        "  s = data_train[cat].value_counts()\n",
        "  plt.bar(s.index, s.values/s.sum())\n",
        "  plt.xticks(rotation=45)\n",
        "  plt.xlabel(cat)\n",
        "  plt.ylabel('Probability')\n",
        "  plt.title(r'Histogram of '+ cat)\n",
        "  plt.show()"
      ],
      "execution_count": null,
      "outputs": []
    },
    {
      "cell_type": "code",
      "metadata": {
        "id": "z0D1sfnPzfF3",
        "outputId": "dd4ded03-6a40-4309-8af3-5247f5185c40",
        "colab": {
          "base_uri": "https://localhost:8080/"
        }
      },
      "source": [
        "col = ['sub_cat_0','sub_cat_1','sub_cat_2','sub_cat_3','sub_cat_4']\n",
        "df_cat = data_train[col]\n",
        "targets = []\n",
        "for cat in col:\n",
        "  targets = targets + [t for t in df_cat[cat].unique().tolist()]\n",
        "tragets = list(set(targets))\n",
        "\n",
        "n = len(targets)\n",
        "mat_corr_cat = np.zeros((n, n))\n",
        "dict_cat = {}\n",
        "for row in df_cat.itertuples():\n",
        "  print(row.sub_cat_0)\n",
        "  break"
      ],
      "execution_count": null,
      "outputs": [
        {
          "output_type": "stream",
          "text": [
            "rec\n"
          ],
          "name": "stdout"
        }
      ]
    },
    {
      "cell_type": "code",
      "metadata": {
        "id": "JN9tG1Pb5PTN",
        "outputId": "1d60014d-6d27-4a93-fca7-00c02c26244d",
        "colab": {
          "base_uri": "https://localhost:8080/",
          "height": 669
        }
      },
      "source": [
        "df_cat.groupby(df_cat.columns.tolist()).size().reset_index()"
      ],
      "execution_count": null,
      "outputs": [
        {
          "output_type": "execute_result",
          "data": {
            "text/html": [
              "<div>\n",
              "<style scoped>\n",
              "    .dataframe tbody tr th:only-of-type {\n",
              "        vertical-align: middle;\n",
              "    }\n",
              "\n",
              "    .dataframe tbody tr th {\n",
              "        vertical-align: top;\n",
              "    }\n",
              "\n",
              "    .dataframe thead th {\n",
              "        text-align: right;\n",
              "    }\n",
              "</style>\n",
              "<table border=\"1\" class=\"dataframe\">\n",
              "  <thead>\n",
              "    <tr style=\"text-align: right;\">\n",
              "      <th></th>\n",
              "      <th>sub_cat_0</th>\n",
              "      <th>sub_cat_1</th>\n",
              "      <th>sub_cat_2</th>\n",
              "      <th>sub_cat_3</th>\n",
              "      <th>sub_cat_4</th>\n",
              "      <th>0</th>\n",
              "    </tr>\n",
              "  </thead>\n",
              "  <tbody>\n",
              "    <tr>\n",
              "      <th>0</th>\n",
              "      <td>alt</td>\n",
              "      <td>atheism</td>\n",
              "      <td>none</td>\n",
              "      <td>none</td>\n",
              "      <td>none</td>\n",
              "      <td>480</td>\n",
              "    </tr>\n",
              "    <tr>\n",
              "      <th>1</th>\n",
              "      <td>comp</td>\n",
              "      <td>graphics</td>\n",
              "      <td>none</td>\n",
              "      <td>none</td>\n",
              "      <td>none</td>\n",
              "      <td>584</td>\n",
              "    </tr>\n",
              "    <tr>\n",
              "      <th>2</th>\n",
              "      <td>comp</td>\n",
              "      <td>os</td>\n",
              "      <td>ms-windows</td>\n",
              "      <td>misc</td>\n",
              "      <td>none</td>\n",
              "      <td>591</td>\n",
              "    </tr>\n",
              "    <tr>\n",
              "      <th>3</th>\n",
              "      <td>comp</td>\n",
              "      <td>sys</td>\n",
              "      <td>ibm</td>\n",
              "      <td>pc</td>\n",
              "      <td>hardware</td>\n",
              "      <td>590</td>\n",
              "    </tr>\n",
              "    <tr>\n",
              "      <th>4</th>\n",
              "      <td>comp</td>\n",
              "      <td>sys</td>\n",
              "      <td>mac</td>\n",
              "      <td>hardware</td>\n",
              "      <td>none</td>\n",
              "      <td>578</td>\n",
              "    </tr>\n",
              "    <tr>\n",
              "      <th>5</th>\n",
              "      <td>comp</td>\n",
              "      <td>windows</td>\n",
              "      <td>x</td>\n",
              "      <td>none</td>\n",
              "      <td>none</td>\n",
              "      <td>593</td>\n",
              "    </tr>\n",
              "    <tr>\n",
              "      <th>6</th>\n",
              "      <td>misc</td>\n",
              "      <td>forsale</td>\n",
              "      <td>none</td>\n",
              "      <td>none</td>\n",
              "      <td>none</td>\n",
              "      <td>585</td>\n",
              "    </tr>\n",
              "    <tr>\n",
              "      <th>7</th>\n",
              "      <td>rec</td>\n",
              "      <td>autos</td>\n",
              "      <td>none</td>\n",
              "      <td>none</td>\n",
              "      <td>none</td>\n",
              "      <td>594</td>\n",
              "    </tr>\n",
              "    <tr>\n",
              "      <th>8</th>\n",
              "      <td>rec</td>\n",
              "      <td>motorcycles</td>\n",
              "      <td>none</td>\n",
              "      <td>none</td>\n",
              "      <td>none</td>\n",
              "      <td>598</td>\n",
              "    </tr>\n",
              "    <tr>\n",
              "      <th>9</th>\n",
              "      <td>rec</td>\n",
              "      <td>sport</td>\n",
              "      <td>baseball</td>\n",
              "      <td>none</td>\n",
              "      <td>none</td>\n",
              "      <td>597</td>\n",
              "    </tr>\n",
              "    <tr>\n",
              "      <th>10</th>\n",
              "      <td>rec</td>\n",
              "      <td>sport</td>\n",
              "      <td>hockey</td>\n",
              "      <td>none</td>\n",
              "      <td>none</td>\n",
              "      <td>600</td>\n",
              "    </tr>\n",
              "    <tr>\n",
              "      <th>11</th>\n",
              "      <td>sci</td>\n",
              "      <td>crypt</td>\n",
              "      <td>none</td>\n",
              "      <td>none</td>\n",
              "      <td>none</td>\n",
              "      <td>595</td>\n",
              "    </tr>\n",
              "    <tr>\n",
              "      <th>12</th>\n",
              "      <td>sci</td>\n",
              "      <td>electronics</td>\n",
              "      <td>none</td>\n",
              "      <td>none</td>\n",
              "      <td>none</td>\n",
              "      <td>591</td>\n",
              "    </tr>\n",
              "    <tr>\n",
              "      <th>13</th>\n",
              "      <td>sci</td>\n",
              "      <td>med</td>\n",
              "      <td>none</td>\n",
              "      <td>none</td>\n",
              "      <td>none</td>\n",
              "      <td>594</td>\n",
              "    </tr>\n",
              "    <tr>\n",
              "      <th>14</th>\n",
              "      <td>sci</td>\n",
              "      <td>space</td>\n",
              "      <td>none</td>\n",
              "      <td>none</td>\n",
              "      <td>none</td>\n",
              "      <td>593</td>\n",
              "    </tr>\n",
              "    <tr>\n",
              "      <th>15</th>\n",
              "      <td>soc</td>\n",
              "      <td>religion</td>\n",
              "      <td>christian</td>\n",
              "      <td>none</td>\n",
              "      <td>none</td>\n",
              "      <td>599</td>\n",
              "    </tr>\n",
              "    <tr>\n",
              "      <th>16</th>\n",
              "      <td>talk</td>\n",
              "      <td>politics</td>\n",
              "      <td>guns</td>\n",
              "      <td>none</td>\n",
              "      <td>none</td>\n",
              "      <td>546</td>\n",
              "    </tr>\n",
              "    <tr>\n",
              "      <th>17</th>\n",
              "      <td>talk</td>\n",
              "      <td>politics</td>\n",
              "      <td>mideast</td>\n",
              "      <td>none</td>\n",
              "      <td>none</td>\n",
              "      <td>564</td>\n",
              "    </tr>\n",
              "    <tr>\n",
              "      <th>18</th>\n",
              "      <td>talk</td>\n",
              "      <td>politics</td>\n",
              "      <td>misc</td>\n",
              "      <td>none</td>\n",
              "      <td>none</td>\n",
              "      <td>465</td>\n",
              "    </tr>\n",
              "    <tr>\n",
              "      <th>19</th>\n",
              "      <td>talk</td>\n",
              "      <td>religion</td>\n",
              "      <td>misc</td>\n",
              "      <td>none</td>\n",
              "      <td>none</td>\n",
              "      <td>377</td>\n",
              "    </tr>\n",
              "  </tbody>\n",
              "</table>\n",
              "</div>"
            ],
            "text/plain": [
              "   sub_cat_0    sub_cat_1   sub_cat_2 sub_cat_3 sub_cat_4    0\n",
              "0        alt      atheism        none      none      none  480\n",
              "1       comp     graphics        none      none      none  584\n",
              "2       comp           os  ms-windows      misc      none  591\n",
              "3       comp          sys         ibm        pc  hardware  590\n",
              "4       comp          sys         mac  hardware      none  578\n",
              "5       comp      windows           x      none      none  593\n",
              "6       misc      forsale        none      none      none  585\n",
              "7        rec        autos        none      none      none  594\n",
              "8        rec  motorcycles        none      none      none  598\n",
              "9        rec        sport    baseball      none      none  597\n",
              "10       rec        sport      hockey      none      none  600\n",
              "11       sci        crypt        none      none      none  595\n",
              "12       sci  electronics        none      none      none  591\n",
              "13       sci          med        none      none      none  594\n",
              "14       sci        space        none      none      none  593\n",
              "15       soc     religion   christian      none      none  599\n",
              "16      talk     politics        guns      none      none  546\n",
              "17      talk     politics     mideast      none      none  564\n",
              "18      talk     politics        misc      none      none  465\n",
              "19      talk     religion        misc      none      none  377"
            ]
          },
          "metadata": {
            "tags": []
          },
          "execution_count": 27
        }
      ]
    },
    {
      "cell_type": "code",
      "metadata": {
        "id": "SPgL6p9qUpV6",
        "outputId": "0237d37b-9850-462f-d40a-979d82d21e4b",
        "colab": {
          "base_uri": "https://localhost:8080/",
          "height": 317
        }
      },
      "source": [
        "(pd.crosstab(df_cat.sub_cat_0, df_cat.sub_cat_1).T/df_cat.groupby('sub_cat_0').size().values).T"
      ],
      "execution_count": null,
      "outputs": [
        {
          "output_type": "execute_result",
          "data": {
            "text/html": [
              "<div>\n",
              "<style scoped>\n",
              "    .dataframe tbody tr th:only-of-type {\n",
              "        vertical-align: middle;\n",
              "    }\n",
              "\n",
              "    .dataframe tbody tr th {\n",
              "        vertical-align: top;\n",
              "    }\n",
              "\n",
              "    .dataframe thead th {\n",
              "        text-align: right;\n",
              "    }\n",
              "</style>\n",
              "<table border=\"1\" class=\"dataframe\">\n",
              "  <thead>\n",
              "    <tr style=\"text-align: right;\">\n",
              "      <th>sub_cat_1</th>\n",
              "      <th>atheism</th>\n",
              "      <th>autos</th>\n",
              "      <th>crypt</th>\n",
              "      <th>electronics</th>\n",
              "      <th>forsale</th>\n",
              "      <th>graphics</th>\n",
              "      <th>med</th>\n",
              "      <th>motorcycles</th>\n",
              "      <th>os</th>\n",
              "      <th>politics</th>\n",
              "      <th>religion</th>\n",
              "      <th>space</th>\n",
              "      <th>sport</th>\n",
              "      <th>sys</th>\n",
              "      <th>windows</th>\n",
              "    </tr>\n",
              "    <tr>\n",
              "      <th>sub_cat_0</th>\n",
              "      <th></th>\n",
              "      <th></th>\n",
              "      <th></th>\n",
              "      <th></th>\n",
              "      <th></th>\n",
              "      <th></th>\n",
              "      <th></th>\n",
              "      <th></th>\n",
              "      <th></th>\n",
              "      <th></th>\n",
              "      <th></th>\n",
              "      <th></th>\n",
              "      <th></th>\n",
              "      <th></th>\n",
              "      <th></th>\n",
              "    </tr>\n",
              "  </thead>\n",
              "  <tbody>\n",
              "    <tr>\n",
              "      <th>alt</th>\n",
              "      <td>1.0</td>\n",
              "      <td>0.00000</td>\n",
              "      <td>0.000000</td>\n",
              "      <td>0.000000</td>\n",
              "      <td>0.0</td>\n",
              "      <td>0.00000</td>\n",
              "      <td>0.000000</td>\n",
              "      <td>0.000000</td>\n",
              "      <td>0.000000</td>\n",
              "      <td>0.000000</td>\n",
              "      <td>0.000000</td>\n",
              "      <td>0.000000</td>\n",
              "      <td>0.000000</td>\n",
              "      <td>0.00000</td>\n",
              "      <td>0.000000</td>\n",
              "    </tr>\n",
              "    <tr>\n",
              "      <th>comp</th>\n",
              "      <td>0.0</td>\n",
              "      <td>0.00000</td>\n",
              "      <td>0.000000</td>\n",
              "      <td>0.000000</td>\n",
              "      <td>0.0</td>\n",
              "      <td>0.19891</td>\n",
              "      <td>0.000000</td>\n",
              "      <td>0.000000</td>\n",
              "      <td>0.201294</td>\n",
              "      <td>0.000000</td>\n",
              "      <td>0.000000</td>\n",
              "      <td>0.000000</td>\n",
              "      <td>0.000000</td>\n",
              "      <td>0.39782</td>\n",
              "      <td>0.201975</td>\n",
              "    </tr>\n",
              "    <tr>\n",
              "      <th>misc</th>\n",
              "      <td>0.0</td>\n",
              "      <td>0.00000</td>\n",
              "      <td>0.000000</td>\n",
              "      <td>0.000000</td>\n",
              "      <td>1.0</td>\n",
              "      <td>0.00000</td>\n",
              "      <td>0.000000</td>\n",
              "      <td>0.000000</td>\n",
              "      <td>0.000000</td>\n",
              "      <td>0.000000</td>\n",
              "      <td>0.000000</td>\n",
              "      <td>0.000000</td>\n",
              "      <td>0.000000</td>\n",
              "      <td>0.00000</td>\n",
              "      <td>0.000000</td>\n",
              "    </tr>\n",
              "    <tr>\n",
              "      <th>rec</th>\n",
              "      <td>0.0</td>\n",
              "      <td>0.24864</td>\n",
              "      <td>0.000000</td>\n",
              "      <td>0.000000</td>\n",
              "      <td>0.0</td>\n",
              "      <td>0.00000</td>\n",
              "      <td>0.000000</td>\n",
              "      <td>0.250314</td>\n",
              "      <td>0.000000</td>\n",
              "      <td>0.000000</td>\n",
              "      <td>0.000000</td>\n",
              "      <td>0.000000</td>\n",
              "      <td>0.501046</td>\n",
              "      <td>0.00000</td>\n",
              "      <td>0.000000</td>\n",
              "    </tr>\n",
              "    <tr>\n",
              "      <th>sci</th>\n",
              "      <td>0.0</td>\n",
              "      <td>0.00000</td>\n",
              "      <td>0.250737</td>\n",
              "      <td>0.249052</td>\n",
              "      <td>0.0</td>\n",
              "      <td>0.00000</td>\n",
              "      <td>0.250316</td>\n",
              "      <td>0.000000</td>\n",
              "      <td>0.000000</td>\n",
              "      <td>0.000000</td>\n",
              "      <td>0.000000</td>\n",
              "      <td>0.249895</td>\n",
              "      <td>0.000000</td>\n",
              "      <td>0.00000</td>\n",
              "      <td>0.000000</td>\n",
              "    </tr>\n",
              "    <tr>\n",
              "      <th>soc</th>\n",
              "      <td>0.0</td>\n",
              "      <td>0.00000</td>\n",
              "      <td>0.000000</td>\n",
              "      <td>0.000000</td>\n",
              "      <td>0.0</td>\n",
              "      <td>0.00000</td>\n",
              "      <td>0.000000</td>\n",
              "      <td>0.000000</td>\n",
              "      <td>0.000000</td>\n",
              "      <td>0.000000</td>\n",
              "      <td>1.000000</td>\n",
              "      <td>0.000000</td>\n",
              "      <td>0.000000</td>\n",
              "      <td>0.00000</td>\n",
              "      <td>0.000000</td>\n",
              "    </tr>\n",
              "    <tr>\n",
              "      <th>talk</th>\n",
              "      <td>0.0</td>\n",
              "      <td>0.00000</td>\n",
              "      <td>0.000000</td>\n",
              "      <td>0.000000</td>\n",
              "      <td>0.0</td>\n",
              "      <td>0.00000</td>\n",
              "      <td>0.000000</td>\n",
              "      <td>0.000000</td>\n",
              "      <td>0.000000</td>\n",
              "      <td>0.806865</td>\n",
              "      <td>0.193135</td>\n",
              "      <td>0.000000</td>\n",
              "      <td>0.000000</td>\n",
              "      <td>0.00000</td>\n",
              "      <td>0.000000</td>\n",
              "    </tr>\n",
              "  </tbody>\n",
              "</table>\n",
              "</div>"
            ],
            "text/plain": [
              "sub_cat_1  atheism    autos     crypt  ...     sport      sys   windows\n",
              "sub_cat_0                              ...                             \n",
              "alt            1.0  0.00000  0.000000  ...  0.000000  0.00000  0.000000\n",
              "comp           0.0  0.00000  0.000000  ...  0.000000  0.39782  0.201975\n",
              "misc           0.0  0.00000  0.000000  ...  0.000000  0.00000  0.000000\n",
              "rec            0.0  0.24864  0.000000  ...  0.501046  0.00000  0.000000\n",
              "sci            0.0  0.00000  0.250737  ...  0.000000  0.00000  0.000000\n",
              "soc            0.0  0.00000  0.000000  ...  0.000000  0.00000  0.000000\n",
              "talk           0.0  0.00000  0.000000  ...  0.000000  0.00000  0.000000\n",
              "\n",
              "[7 rows x 15 columns]"
            ]
          },
          "metadata": {
            "tags": []
          },
          "execution_count": 26
        }
      ]
    },
    {
      "cell_type": "code",
      "metadata": {
        "id": "Xs4Y2QGA-xiR"
      },
      "source": [
        "\n",
        "\n",
        "\n",
        "\n",
        "from sklearn.mixture import GaussianMixture as GMM\n",
        "\n",
        "from sklearn.cluster import SpectralClustering\n",
        "\n",
        "\n",
        "from sklearn.decomposition import PCA, KernelPCA\n",
        "from sklearn.manifold import TSNE, SpectralEmbedding\n",
        "from umap import UMAP"
      ],
      "execution_count": null,
      "outputs": []
    },
    {
      "cell_type": "markdown",
      "metadata": {
        "id": "65ZlJ9DxkXiS"
      },
      "source": [
        "# Corpus extraction"
      ]
    },
    {
      "cell_type": "code",
      "metadata": {
        "id": "82xkWs-skbUe"
      },
      "source": [
        "corpus = data_train.text.values.tolist()"
      ],
      "execution_count": null,
      "outputs": []
    },
    {
      "cell_type": "markdown",
      "metadata": {
        "id": "3tZbf-VEj6Id"
      },
      "source": [
        "# Topic extraction with NMF and LDA"
      ]
    },
    {
      "cell_type": "code",
      "metadata": {
        "id": "0QgGfxftkA8H"
      },
      "source": [
        "from time import time\n",
        "import random\n",
        "from sklearn.feature_extraction.text import TfidfVectorizer, CountVectorizer\n",
        "from sklearn.decomposition import NMF, LatentDirichletAllocation"
      ],
      "execution_count": null,
      "outputs": []
    },
    {
      "cell_type": "code",
      "metadata": {
        "id": "4Rx0mJdhkG_M"
      },
      "source": [
        "n_samples = 2000\n",
        "n_features = 1000\n",
        "n_components = 7\n",
        "n_top_words = 10\n",
        "\n",
        "\n",
        "def print_top_words(model, feature_names, n_top_words):\n",
        "    for topic_idx, topic in enumerate(model.components_):\n",
        "        message = \"Topic #%d: \" % topic_idx\n",
        "        message += \" \".join([feature_names[i]\n",
        "                             for i in topic.argsort()[:-n_top_words - 1:-1]])\n",
        "        print(message)\n",
        "    print()\n",
        "\n",
        "\n",
        "# Load the 20 newsgroups dataset and vectorize it. We use a few heuristics\n",
        "# to filter out useless terms early on: the posts are stripped of headers,\n",
        "# footers and quoted replies, and common English words, words occurring in\n",
        "# only one document or in at least 95% of the documents are removed.\n",
        "\n"
      ],
      "execution_count": null,
      "outputs": []
    },
    {
      "cell_type": "code",
      "metadata": {
        "id": "cXTfM4vgo-Zo"
      },
      "source": [
        "random.shuffle(corpus)\n",
        "corpus_samples = corpus[:n_samples]"
      ],
      "execution_count": null,
      "outputs": []
    },
    {
      "cell_type": "code",
      "metadata": {
        "id": "MnpdT7Qvom4f",
        "outputId": "445bcaa7-bfe3-4b05-d3ae-a02ba655ee20",
        "colab": {
          "base_uri": "https://localhost:8080/"
        }
      },
      "source": [
        "# Use tf-idf features\n",
        "print(\"Extracting tf-idf features...\")\n",
        "tfidf_vectorizer = TfidfVectorizer(max_df=0.95, \n",
        "                                   min_df=2,\n",
        "                                   max_features=n_features,\n",
        "                                   stop_words='english')\n",
        "t0 = time()\n",
        "tfidf = tfidf_vectorizer.fit_transform(corpus_samples)\n",
        "print(\"done in %0.3fs.\" % (time() - t0))\n",
        "\n",
        "# Use tf (raw term count) features.\n",
        "print(\"Extracting tf ...\")\n",
        "tf_vectorizer = CountVectorizer(max_df=0.95, \n",
        "                                min_df=2,\n",
        "                                max_features=n_features,\n",
        "                                stop_words='english')\n",
        "t0 = time()\n",
        "tf = tf_vectorizer.fit_transform(corpus_samples)\n",
        "print(\"done in %0.3fs.\" % (time() - t0))\n",
        "print()\n"
      ],
      "execution_count": null,
      "outputs": [
        {
          "output_type": "stream",
          "text": [
            "Extracting tf-idf features...\n",
            "done in 0.288s.\n",
            "Extracting tf ...\n",
            "done in 0.278s.\n",
            "\n"
          ],
          "name": "stdout"
        }
      ]
    },
    {
      "cell_type": "code",
      "metadata": {
        "id": "sLz_E3BIona7",
        "outputId": "1fe4eab6-6c08-47c0-80f9-ebd1a2b5a2da",
        "colab": {
          "base_uri": "https://localhost:8080/"
        }
      },
      "source": [
        "\n",
        "# Fit the NMF model with Frobenius norm and tfidf\n",
        "print(\"Fitting the NMF model (Frobenius norm) with tf-idf features, \"\n",
        "      \"n_samples=%d and n_features=%d...\"\n",
        "      % (n_samples, n_features))\n",
        "t0 = time()\n",
        "nmf = NMF(n_components=n_components, random_state=1, alpha=.1, l1_ratio=.5).fit(tfidf)\n",
        "print(\"done in %0.3fs.\" % (time() - t0))\n",
        "\n",
        "print(\"\\nTopics in NMF model (Frobenius norm):\")\n",
        "tfidf_feature_names = tfidf_vectorizer.get_feature_names()\n",
        "print_top_words(nmf, tfidf_feature_names, n_top_words)\n",
        "\n",
        "# Fit the NMF model with Kullback-Leiber and tfidf\n",
        "print(\"Fitting the NMF model (generalized Kullback-Leibler divergence) with \"\n",
        "      \"tf-idf features, n_samples=%d and n_features=%d...\"\n",
        "      % (n_samples, n_features))\n",
        "t0 = time()\n",
        "nmf = NMF(n_components=n_components, random_state=1,\n",
        "          beta_loss='kullback-leibler', solver='mu', max_iter=1000, alpha=.1,\n",
        "          l1_ratio=.5).fit(tfidf)\n",
        "print(\"done in %0.3fs.\" % (time() - t0))\n",
        "\n",
        "print(\"\\nTopics in NMF model (generalized Kullback-Leibler divergence):\")\n",
        "tfidf_feature_names = tfidf_vectorizer.get_feature_names()\n",
        "print_top_words(nmf, tfidf_feature_names, n_top_words)\n",
        "\n"
      ],
      "execution_count": null,
      "outputs": [
        {
          "output_type": "stream",
          "text": [
            "Fitting the NMF model (Frobenius norm) with tf-idf features, n_samples=2000 and n_features=1000...\n",
            "done in 0.174s.\n",
            "\n",
            "Topics in NMF model (Frobenius norm):\n",
            "Topic #0: don just think like people good time make know ve\n",
            "Topic #1: windows file use dos drive files using card memory color\n",
            "Topic #2: god jesus bible believe christians church christ sin son faith\n",
            "Topic #3: thanks does know advance mail hi looking address information info\n",
            "Topic #4: 00 sale shipping list 50 cover price new 10 sold\n",
            "Topic #5: edu soon university email mail condition cs hope subject sale\n",
            "Topic #6: team game players games season year hockey play teams player\n",
            "\n",
            "Fitting the NMF model (generalized Kullback-Leibler divergence) with tf-idf features, n_samples=2000 and n_features=1000...\n",
            "done in 0.843s.\n",
            "\n",
            "Topics in NMF model (generalized Kullback-Leibler divergence):\n",
            "Topic #0: just like don think ve way time did good right\n",
            "Topic #1: windows use drive file using software card thanks files problem\n",
            "Topic #2: god believe jesus bible christians true church christian says point\n",
            "Topic #3: know thanks does don looking advance think good post like\n",
            "Topic #4: edu 00 sale year 10 com list price 50 condition\n",
            "Topic #5: people government law israel information edu mr israeli state university\n",
            "Topic #6: team game chip key players play time clipper season phone\n",
            "\n"
          ],
          "name": "stdout"
        }
      ]
    },
    {
      "cell_type": "code",
      "metadata": {
        "id": "zCImR8JzonKY",
        "outputId": "3da737b4-b710-466e-9c5d-81264188d0ae",
        "colab": {
          "base_uri": "https://localhost:8080/"
        }
      },
      "source": [
        "print(\"Fitting LDA models with tf features, \"\n",
        "      \"n_samples=%d and n_features=%d...\"\n",
        "      % (n_samples, n_features))\n",
        "lda = LatentDirichletAllocation(n_components=n_components, max_iter=5,\n",
        "                                learning_method='online',\n",
        "                                learning_offset=50.,\n",
        "                                random_state=0)\n",
        "t0 = time()\n",
        "lda.fit(tf)\n",
        "print(\"done in %0.3fs.\" % (time() - t0))\n",
        "\n",
        "print(\"\\nTopics in LDA model with tf:\")\n",
        "tf_feature_names = tf_vectorizer.get_feature_names()\n",
        "print_top_words(lda, tf_feature_names, n_top_words)\n",
        "\n",
        "print(\"Fitting LDA models with tfidf features, \"\n",
        "      \"n_samples=%d and n_features=%d...\"\n",
        "      % (n_samples, n_features))\n",
        "lda = LatentDirichletAllocation(n_components=n_components, max_iter=5,\n",
        "                                learning_method='online',\n",
        "                                learning_offset=50.,\n",
        "                                random_state=0)\n",
        "t0 = time()\n",
        "lda.fit(tfidf)\n",
        "print(\"done in %0.3fs.\" % (time() - t0))\n",
        "\n",
        "print(\"\\nTopics in LDA model with tfidf:\")\n",
        "tf_feature_names = tfidf_vectorizer.get_feature_names()\n",
        "print_top_words(lda, tfidf_feature_names, n_top_words)"
      ],
      "execution_count": null,
      "outputs": [
        {
          "output_type": "stream",
          "text": [
            "Fitting LDA models with tf features, n_samples=2000 and n_features=1000...\n",
            "done in 2.889s.\n",
            "\n",
            "Topics in LDA model with tf:\n",
            "Topic #0: 00 file output entry 000 oname program printf stream char\n",
            "Topic #1: file jpeg gif image information use files internet images mail\n",
            "Topic #2: output gun file program entry firearms line function use number\n",
            "Topic #3: key space chip encryption data use time des team clipper\n",
            "Topic #4: edu drive thanks bit use windows like os mac does\n",
            "Topic #5: god jesus 10 son church 11 period bible 17 13\n",
            "Topic #6: people don just like think know time good say right\n",
            "\n",
            "Fitting LDA models with tfidf features, n_samples=2000 and n_features=1000...\n",
            "done in 1.249s.\n",
            "\n",
            "Topics in LDA model with tfidf:\n",
            "Topic #0: 1993 sold journal march season 1992 00 com 49 just\n",
            "Topic #1: null waiting char states int misc tape filename entry format\n",
            "Topic #2: just don like know think does thanks use good ve\n",
            "Topic #3: laws values year universe short probe 23 message april moon\n",
            "Topic #4: plus supposed cars players like jesus article jews sound edu\n",
            "Topic #5: sorry wanted hold wouldn nasa think email center technology outside\n",
            "Topic #6: god jesus jews church bible christians believe israel people religion\n",
            "\n"
          ],
          "name": "stdout"
        }
      ]
    },
    {
      "cell_type": "markdown",
      "metadata": {
        "id": "nMPvs4L-45k7"
      },
      "source": [
        "# Vector Embedding with SBERT"
      ]
    },
    {
      "cell_type": "code",
      "metadata": {
        "id": "QqIjmzemhdnQ"
      },
      "source": [
        "from sentence_transformers import SentenceTransformer, util"
      ],
      "execution_count": null,
      "outputs": []
    },
    {
      "cell_type": "code",
      "metadata": {
        "id": "QnXe3ktv5NXH",
        "outputId": "c52c8e8f-ebb3-4d05-e13e-06034e7dacab",
        "colab": {
          "base_uri": "https://localhost:8080/"
        }
      },
      "source": [
        "embedder = SentenceTransformer('bert-base-nli-mean-tokens')"
      ],
      "execution_count": null,
      "outputs": [
        {
          "output_type": "stream",
          "text": [
            "100%|██████████| 405M/405M [00:25<00:00, 15.9MB/s]\n"
          ],
          "name": "stderr"
        }
      ]
    },
    {
      "cell_type": "code",
      "metadata": {
        "id": "9rQpuz6xiD2-"
      },
      "source": [
        "corpus_embeddings = embedder.encode(corpus)"
      ],
      "execution_count": null,
      "outputs": []
    },
    {
      "cell_type": "code",
      "metadata": {
        "id": "7LlPj3A765p4",
        "outputId": "bbef282e-ad28-4413-cb27-fb8ec2c44ff6",
        "colab": {
          "base_uri": "https://localhost:8080/"
        }
      },
      "source": [
        "corpus_embeddings.shape"
      ],
      "execution_count": null,
      "outputs": [
        {
          "output_type": "execute_result",
          "data": {
            "text/plain": [
              "(11314, 768)"
            ]
          },
          "metadata": {
            "tags": []
          },
          "execution_count": 11
        }
      ]
    },
    {
      "cell_type": "markdown",
      "metadata": {
        "id": "_QQG2-yv2NSC"
      },
      "source": [
        "## Similarity Matrix"
      ]
    },
    {
      "cell_type": "code",
      "metadata": {
        "id": "MSIPay8e6miq"
      },
      "source": [
        "#Compute cosine-similarities for each sentence with each other sentence\n",
        "cosine_scores = util.pytorch_cos_sim(corpus_embeddings, corpus_embeddings)"
      ],
      "execution_count": null,
      "outputs": []
    },
    {
      "cell_type": "code",
      "metadata": {
        "id": "MU7vOoOVBrju"
      },
      "source": [
        "cosine_scores = cosine_scores.numpy()"
      ],
      "execution_count": null,
      "outputs": []
    },
    {
      "cell_type": "markdown",
      "metadata": {
        "id": "beDvG3NpFrQE"
      },
      "source": [
        "# Apply clustering on full vectors"
      ]
    },
    {
      "cell_type": "code",
      "metadata": {
        "id": "bkObv9XAVkAI"
      },
      "source": [
        "from sklearn.metrics import adjusted_rand_score, normalized_mutual_info_score"
      ],
      "execution_count": null,
      "outputs": []
    },
    {
      "cell_type": "markdown",
      "metadata": {
        "id": "Gp5rI2-dF9Eh"
      },
      "source": [
        "## KMeans"
      ]
    },
    {
      "cell_type": "code",
      "metadata": {
        "id": "OoGo6zt1F8YU"
      },
      "source": [
        "from sklearn.cluster import KMeans"
      ],
      "execution_count": null,
      "outputs": []
    },
    {
      "cell_type": "code",
      "metadata": {
        "id": "lkXYYqSkGFQF",
        "outputId": "a090793a-2341-4edb-e77c-3c80ef20baef",
        "colab": {
          "base_uri": "https://localhost:8080/"
        }
      },
      "source": [
        "num_clusters = 7\n",
        "\n",
        "km = KMeans(n_clusters=num_clusters)\n",
        "\n",
        "km.fit(corpus_embeddings)\n",
        "\n",
        "clusters = km.labels_.tolist()\n",
        "\n",
        "data_train['km_clusters'] = clusters\n",
        "\n",
        "ari = adjusted_rand_score(data_train.sub_cat_0, data_train.km_clusters)\n",
        "\n",
        "nmi = normalized_mutual_info_score(data_train.sub_cat_0, data_train.km_clusters)\n",
        "\n",
        "print(ari, nmi)"
      ],
      "execution_count": null,
      "outputs": [
        {
          "output_type": "stream",
          "text": [
            "0.1302882310395798 0.17809941980448996\n"
          ],
          "name": "stdout"
        }
      ]
    },
    {
      "cell_type": "markdown",
      "metadata": {
        "id": "4lXNk-U0XQKr"
      },
      "source": [
        "## Agglomerative clustering"
      ]
    },
    {
      "cell_type": "code",
      "metadata": {
        "id": "3YouP2M0a-DV"
      },
      "source": [
        "from scipy.cluster.hierarchy import dendrogram\n",
        "from sklearn.cluster import AgglomerativeClustering\n"
      ],
      "execution_count": null,
      "outputs": []
    },
    {
      "cell_type": "code",
      "metadata": {
        "id": "kOECDWIrbIdQ"
      },
      "source": [
        "def plot_dendrogram(model, **kwargs):\n",
        "    # Create linkage matrix and then plot the dendrogram\n",
        "\n",
        "    # create the counts of samples under each node\n",
        "    counts = np.zeros(model.children_.shape[0])\n",
        "    n_samples = len(model.labels_)\n",
        "    for i, merge in enumerate(model.children_):\n",
        "        current_count = 0\n",
        "        for child_idx in merge:\n",
        "            if child_idx < n_samples:\n",
        "                current_count += 1  # leaf node\n",
        "            else:\n",
        "                current_count += counts[child_idx - n_samples]\n",
        "        counts[i] = current_count\n",
        "\n",
        "    linkage_matrix = np.column_stack([model.children_, model.distances_, counts]).astype(float)\n",
        "\n",
        "    # Plot the corresponding dendrogram\n",
        "    dendrogram(linkage_matrix, **kwargs)"
      ],
      "execution_count": null,
      "outputs": []
    },
    {
      "cell_type": "code",
      "metadata": {
        "id": "M33eeVX0eT_c",
        "outputId": "64e76b7f-3198-41cd-cc7e-1c281861288e",
        "colab": {
          "base_uri": "https://localhost:8080/"
        }
      },
      "source": [
        "agg.labels_"
      ],
      "execution_count": null,
      "outputs": [
        {
          "output_type": "execute_result",
          "data": {
            "text/plain": [
              "array([6635, 8479, 9922, ...,    1,    2,    0])"
            ]
          },
          "metadata": {
            "tags": []
          },
          "execution_count": 74
        }
      ]
    },
    {
      "cell_type": "code",
      "metadata": {
        "id": "kqiMnyVubVz4",
        "outputId": "4cffc00c-b837-462b-d58a-2941572e3c1e",
        "colab": {
          "base_uri": "https://localhost:8080/"
        }
      },
      "source": [
        "# setting distance_threshold=0 ensures we compute the full tree.\n",
        "for aff in ['euclidean', 'l1', 'l2', 'manhattan']:\n",
        "    for link in ['ward', 'average', 'complete']:\n",
        "      if aff!='euclidean' and link=='ward':\n",
        "        print(aff, link)\n",
        "        print('impossible')\n",
        "      else:\n",
        "        agg = AgglomerativeClustering(n_clusters=7, affinity=aff, linkage=link)\n",
        "\n",
        "        agg = agg.fit(corpus_embeddings)\n",
        "\n",
        "        data_train['agg_clusters'] = agg.labels_\n",
        "\n",
        "        ari = adjusted_rand_score(data_train.sub_cat_0, data_train.agg_clusters)\n",
        "\n",
        "        nmi = normalized_mutual_info_score(data_train.sub_cat_0, data_train.agg_clusters)\n",
        "\n",
        "        print(aff, link)\n",
        "        print(ari, nmi)"
      ],
      "execution_count": null,
      "outputs": [
        {
          "output_type": "stream",
          "text": [
            "euclidean ward\n",
            "0.19144568632578837 0.2409081337709689\n",
            "euclidean average\n",
            "-0.0006575701589842411 0.002981751485590231\n",
            "euclidean complete\n",
            "0.025472941831154672 0.06167431303958115\n",
            "l1 ward\n",
            "impossible\n",
            "l1 average\n",
            "-0.0009567860099416667 0.002948794350936495\n",
            "l1 complete\n",
            "0.09948557433791409 0.12468524452712536\n",
            "l2 ward\n",
            "impossible\n",
            "l2 average\n",
            "-0.0006575701589842411 0.002981751485590231\n",
            "l2 complete\n",
            "0.025472941831154672 0.06167431303958115\n",
            "manhattan ward\n",
            "impossible\n",
            "manhattan average\n",
            "-0.0009567860099416667 0.002948794350936495\n",
            "manhattan complete\n",
            "0.09948557433791409 0.12468524452712536\n"
          ],
          "name": "stdout"
        }
      ]
    },
    {
      "cell_type": "code",
      "metadata": {
        "id": "p1zRFAzgqC_W",
        "outputId": "90f1e14a-5771-4293-a329-6a4417771851",
        "colab": {
          "base_uri": "https://localhost:8080/"
        }
      },
      "source": [
        "for aff in ['cosine', 'precomputed']:\n",
        "    for link in ['average', 'complete']:\n",
        "      if aff=='cosine':\n",
        "        agg = AgglomerativeClustering(n_clusters=7, affinity=aff, linkage=link)\n",
        "\n",
        "        agg = agg.fit(corpus_embeddings)\n",
        "\n",
        "        data_train['agg_clusters'] = agg.labels_\n",
        "\n",
        "        ari = adjusted_rand_score(data_train.sub_cat_0, data_train.agg_clusters)\n",
        "\n",
        "        nmi = normalized_mutual_info_score(data_train.sub_cat_0, data_train.agg_clusters)\n",
        "\n",
        "        print(aff, link)\n",
        "        print(ari, nmi)\n",
        "      elif aff=='precomputed':\n",
        "        agg = AgglomerativeClustering(n_clusters=7, affinity=aff, linkage=link)\n",
        "\n",
        "        agg = agg.fit(cosine_scores)\n",
        "\n",
        "        data_train['agg_clusters'] = agg.labels_\n",
        "\n",
        "        ari = adjusted_rand_score(data_train.sub_cat_0, data_train.agg_clusters)\n",
        "\n",
        "        nmi = normalized_mutual_info_score(data_train.sub_cat_0, data_train.agg_clusters)\n",
        "\n",
        "        print(aff, link)\n",
        "        print(ari, nmi)"
      ],
      "execution_count": null,
      "outputs": [
        {
          "output_type": "stream",
          "text": [
            "cosine average\n",
            "-0.0006543166069725377 0.0040901780729402995\n",
            "cosine complete\n",
            "0.06921899866160866 0.07197441517841613\n",
            "precomputed average\n",
            "-7.959203899269908e-05 0.0009966398653774703\n",
            "precomputed complete\n",
            "0.0005509397491578703 0.0007947498226673375\n"
          ],
          "name": "stdout"
        }
      ]
    },
    {
      "cell_type": "code",
      "metadata": {
        "id": "hJ_aXsoKxfDk",
        "outputId": "979255f1-640f-4cfc-815b-7745f5674d05",
        "colab": {
          "base_uri": "https://localhost:8080/",
          "height": 35
        }
      },
      "source": [
        ""
      ],
      "execution_count": null,
      "outputs": [
        {
          "output_type": "execute_result",
          "data": {
            "application/vnd.google.colaboratory.intrinsic+json": {
              "type": "string"
            },
            "text/plain": [
              "'ward'"
            ]
          },
          "metadata": {
            "tags": []
          },
          "execution_count": 88
        }
      ]
    },
    {
      "cell_type": "code",
      "metadata": {
        "id": "lqzvOsHhb-Bc",
        "outputId": "c71a92a6-30cd-4b78-c6c0-e9aea32f5a7d",
        "colab": {
          "base_uri": "https://localhost:8080/",
          "height": 301
        }
      },
      "source": [
        "plt.title('Hierarchical Clustering Dendrogram')\n",
        "# plot the top three levels of the dendrogram\n",
        "plot_dendrogram(model, truncate_mode='level', p=7)\n",
        "plt.xlabel(\"Number of points in node (or index of point if no parenthesis).\")\n",
        "plt.show()"
      ],
      "execution_count": null,
      "outputs": [
        {
          "output_type": "display_data",
          "data": {
            "image/png": "[encoded data removed]",
            "text/plain": [
              "<Figure size 432x288 with 1 Axes>"
            ]
          },
          "metadata": {
            "tags": [],
            "needs_background": "light"
          }
        }
      ]
    },
    {
      "cell_type": "code",
      "metadata": {
        "id": "LodQ8ZS2uBve"
      },
      "source": [
        "agg = AgglomerativeClustering(n_clusters=7, affinity='euclidean', linkage='ward')\n",
        "agg.fit(corpus_embeddings)\n",
        "\n",
        "data_train['agg_clusters'] = agg.labels_\n",
        "ari = adjusted_rand_score(data_train.sub_cat_0, data_train.agg_clusters)\n",
        "nmi = normalized_mutual_info_score(data_train.sub_cat_0, data_train.agg_clusters)"
      ],
      "execution_count": null,
      "outputs": []
    },
    {
      "cell_type": "code",
      "metadata": {
        "id": "lwCpylwfuBZl",
        "outputId": "5ae9ddff-6912-414e-c681-61a7b698beab",
        "colab": {
          "base_uri": "https://localhost:8080/"
        }
      },
      "source": [
        "\n",
        "data_train.agg_clusters.value_counts()\n"
      ],
      "execution_count": null,
      "outputs": [
        {
          "output_type": "execute_result",
          "data": {
            "text/plain": [
              "0    2631\n",
              "2    2381\n",
              "1    2177\n",
              "6    1990\n",
              "4    1017\n",
              "5     817\n",
              "3     301\n",
              "Name: agg_clusters, dtype: int64"
            ]
          },
          "metadata": {
            "tags": []
          },
          "execution_count": 102
        }
      ]
    },
    {
      "cell_type": "code",
      "metadata": {
        "id": "WCHt5sXbE1jr",
        "outputId": "1b077e87-c82b-451b-f8a8-cafe9863c3f6",
        "colab": {
          "base_uri": "https://localhost:8080/",
          "height": 297
        }
      },
      "source": [
        "pd.crosstab(data_train.agg_clusters, data_train.sub_cat_0)"
      ],
      "execution_count": null,
      "outputs": [
        {
          "output_type": "execute_result",
          "data": {
            "text/html": [
              "<div>\n",
              "<style scoped>\n",
              "    .dataframe tbody tr th:only-of-type {\n",
              "        vertical-align: middle;\n",
              "    }\n",
              "\n",
              "    .dataframe tbody tr th {\n",
              "        vertical-align: top;\n",
              "    }\n",
              "\n",
              "    .dataframe thead th {\n",
              "        text-align: right;\n",
              "    }\n",
              "</style>\n",
              "<table border=\"1\" class=\"dataframe\">\n",
              "  <thead>\n",
              "    <tr style=\"text-align: right;\">\n",
              "      <th>sub_cat_0</th>\n",
              "      <th>alt</th>\n",
              "      <th>comp</th>\n",
              "      <th>misc</th>\n",
              "      <th>rec</th>\n",
              "      <th>sci</th>\n",
              "      <th>soc</th>\n",
              "      <th>talk</th>\n",
              "    </tr>\n",
              "    <tr>\n",
              "      <th>agg_clusters</th>\n",
              "      <th></th>\n",
              "      <th></th>\n",
              "      <th></th>\n",
              "      <th></th>\n",
              "      <th></th>\n",
              "      <th></th>\n",
              "      <th></th>\n",
              "    </tr>\n",
              "  </thead>\n",
              "  <tbody>\n",
              "    <tr>\n",
              "      <th>0</th>\n",
              "      <td>33</td>\n",
              "      <td>441</td>\n",
              "      <td>386</td>\n",
              "      <td>803</td>\n",
              "      <td>780</td>\n",
              "      <td>34</td>\n",
              "      <td>154</td>\n",
              "    </tr>\n",
              "    <tr>\n",
              "      <th>1</th>\n",
              "      <td>286</td>\n",
              "      <td>120</td>\n",
              "      <td>20</td>\n",
              "      <td>184</td>\n",
              "      <td>422</td>\n",
              "      <td>441</td>\n",
              "      <td>704</td>\n",
              "    </tr>\n",
              "    <tr>\n",
              "      <th>2</th>\n",
              "      <td>5</td>\n",
              "      <td>1859</td>\n",
              "      <td>115</td>\n",
              "      <td>66</td>\n",
              "      <td>301</td>\n",
              "      <td>9</td>\n",
              "      <td>26</td>\n",
              "    </tr>\n",
              "    <tr>\n",
              "      <th>3</th>\n",
              "      <td>12</td>\n",
              "      <td>71</td>\n",
              "      <td>8</td>\n",
              "      <td>84</td>\n",
              "      <td>61</td>\n",
              "      <td>8</td>\n",
              "      <td>57</td>\n",
              "    </tr>\n",
              "    <tr>\n",
              "      <th>4</th>\n",
              "      <td>35</td>\n",
              "      <td>366</td>\n",
              "      <td>31</td>\n",
              "      <td>198</td>\n",
              "      <td>198</td>\n",
              "      <td>32</td>\n",
              "      <td>157</td>\n",
              "    </tr>\n",
              "    <tr>\n",
              "      <th>5</th>\n",
              "      <td>3</td>\n",
              "      <td>5</td>\n",
              "      <td>1</td>\n",
              "      <td>768</td>\n",
              "      <td>10</td>\n",
              "      <td>0</td>\n",
              "      <td>30</td>\n",
              "    </tr>\n",
              "    <tr>\n",
              "      <th>6</th>\n",
              "      <td>106</td>\n",
              "      <td>74</td>\n",
              "      <td>24</td>\n",
              "      <td>286</td>\n",
              "      <td>601</td>\n",
              "      <td>75</td>\n",
              "      <td>824</td>\n",
              "    </tr>\n",
              "  </tbody>\n",
              "</table>\n",
              "</div>"
            ],
            "text/plain": [
              "sub_cat_0     alt  comp  misc  rec  sci  soc  talk\n",
              "agg_clusters                                      \n",
              "0              33   441   386  803  780   34   154\n",
              "1             286   120    20  184  422  441   704\n",
              "2               5  1859   115   66  301    9    26\n",
              "3              12    71     8   84   61    8    57\n",
              "4              35   366    31  198  198   32   157\n",
              "5               3     5     1  768   10    0    30\n",
              "6             106    74    24  286  601   75   824"
            ]
          },
          "metadata": {
            "tags": []
          },
          "execution_count": 116
        }
      ]
    },
    {
      "cell_type": "code",
      "metadata": {
        "id": "YRJ5q0LKwUeN",
        "outputId": "00144b58-93a8-4c63-f9cd-c2478c39f2f5",
        "colab": {
          "base_uri": "https://localhost:8080/"
        }
      },
      "source": [
        "data_train[(data_train.sub_cat_0=='sci')].agg_clusters.value_counts()"
      ],
      "execution_count": null,
      "outputs": [
        {
          "output_type": "execute_result",
          "data": {
            "text/plain": [
              "0    780\n",
              "6    601\n",
              "1    422\n",
              "2    301\n",
              "4    198\n",
              "3     61\n",
              "5     10\n",
              "Name: agg_clusters, dtype: int64"
            ]
          },
          "metadata": {
            "tags": []
          },
          "execution_count": 105
        }
      ]
    },
    {
      "cell_type": "code",
      "metadata": {
        "id": "x-DIO7vCwUS-"
      },
      "source": [
        ""
      ],
      "execution_count": null,
      "outputs": []
    },
    {
      "cell_type": "markdown",
      "metadata": {
        "id": "HoVa3KnvFaBX"
      },
      "source": [
        "# DimRed Solutions"
      ]
    },
    {
      "cell_type": "markdown",
      "metadata": {
        "id": "dXQjwDMRFfRA"
      },
      "source": [
        "## Multidimensional Scaling"
      ]
    },
    {
      "cell_type": "code",
      "metadata": {
        "id": "-VeCC7RFFow_"
      },
      "source": [
        "from sklearn.manifold import MDS"
      ],
      "execution_count": null,
      "outputs": []
    },
    {
      "cell_type": "code",
      "metadata": {
        "id": "hs2r172DFpS8",
        "outputId": "0e799c19-fa35-4d34-c49c-1e482af8598e",
        "colab": {
          "base_uri": "https://localhost:8080/",
          "height": 244
        }
      },
      "source": [
        "# convert two components as we're plotting points in a two-dimensional plane\n",
        "# \"precomputed\" because we provide a distance matrix\n",
        "# we will also specify `random_state` so the plot is reproducible.\n",
        "mds = MDS(n_components=2, dissimilarity=\"precomputed\", random_state=1)\n",
        "\n",
        "pos = mds.fit_transform(1-cosine_scores)  # shape (n_components, n_samples)\n",
        "\n",
        "xs, ys = pos[:, 0], pos[:, 1]\n"
      ],
      "execution_count": null,
      "outputs": [
        {
          "output_type": "error",
          "ename": "NameError",
          "evalue": "ignored",
          "traceback": [
            "\u001b[0;31m---------------------------------------------------------------------------\u001b[0m",
            "\u001b[0;31mNameError\u001b[0m                                 Traceback (most recent call last)",
            "\u001b[0;32m<ipython-input-1-def93d5ffca9>\u001b[0m in \u001b[0;36m<module>\u001b[0;34m()\u001b[0m\n\u001b[1;32m      2\u001b[0m \u001b[0;31m# \"precomputed\" because we provide a distance matrix\u001b[0m\u001b[0;34m\u001b[0m\u001b[0;34m\u001b[0m\u001b[0;34m\u001b[0m\u001b[0m\n\u001b[1;32m      3\u001b[0m \u001b[0;31m# we will also specify `random_state` so the plot is reproducible.\u001b[0m\u001b[0;34m\u001b[0m\u001b[0;34m\u001b[0m\u001b[0;34m\u001b[0m\u001b[0m\n\u001b[0;32m----> 4\u001b[0;31m \u001b[0mmds\u001b[0m \u001b[0;34m=\u001b[0m \u001b[0mMDS\u001b[0m\u001b[0;34m(\u001b[0m\u001b[0mn_components\u001b[0m\u001b[0;34m=\u001b[0m\u001b[0;36m2\u001b[0m\u001b[0;34m,\u001b[0m \u001b[0mdissimilarity\u001b[0m\u001b[0;34m=\u001b[0m\u001b[0;34m\"precomputed\"\u001b[0m\u001b[0;34m,\u001b[0m \u001b[0mrandom_state\u001b[0m\u001b[0;34m=\u001b[0m\u001b[0;36m1\u001b[0m\u001b[0;34m)\u001b[0m\u001b[0;34m\u001b[0m\u001b[0;34m\u001b[0m\u001b[0m\n\u001b[0m\u001b[1;32m      5\u001b[0m \u001b[0;34m\u001b[0m\u001b[0m\n\u001b[1;32m      6\u001b[0m \u001b[0mpos\u001b[0m \u001b[0;34m=\u001b[0m \u001b[0mmds\u001b[0m\u001b[0;34m.\u001b[0m\u001b[0mfit_transform\u001b[0m\u001b[0;34m(\u001b[0m\u001b[0;36m1\u001b[0m\u001b[0;34m-\u001b[0m\u001b[0mcosine_scores\u001b[0m\u001b[0;34m)\u001b[0m  \u001b[0;31m# shape (n_components, n_samples)\u001b[0m\u001b[0;34m\u001b[0m\u001b[0;34m\u001b[0m\u001b[0m\n",
            "\u001b[0;31mNameError\u001b[0m: name 'MDS' is not defined"
          ]
        }
      ]
    },
    {
      "cell_type": "code",
      "metadata": {
        "id": "KJYvfip8Bw2f",
        "outputId": "0f49d332-9232-47f8-e2b8-24b1901ed944",
        "colab": {
          "base_uri": "https://localhost:8080/"
        }
      },
      "source": [
        "cosine_scores"
      ],
      "execution_count": null,
      "outputs": [
        {
          "output_type": "execute_result",
          "data": {
            "text/plain": [
              "array([[1.0000001 , 0.7160857 , 0.6191044 , ..., 0.5360776 , 0.48640186,\n",
              "        0.24551722],\n",
              "       [0.7160857 , 0.9999999 , 0.6699708 , ..., 0.44181615, 0.5142851 ,\n",
              "        0.25923854],\n",
              "       [0.6191044 , 0.6699708 , 1.        , ..., 0.6019724 , 0.616187  ,\n",
              "        0.4251931 ],\n",
              "       ...,\n",
              "       [0.53607756, 0.44181612, 0.6019724 , ..., 0.99999887, 0.63822997,\n",
              "        0.36323553],\n",
              "       [0.4864017 , 0.5142851 , 0.61618686, ..., 0.63822985, 0.9999997 ,\n",
              "        0.3190789 ],\n",
              "       [0.2455172 , 0.25923848, 0.42519313, ..., 0.36323547, 0.3190789 ,\n",
              "        0.9999998 ]], dtype=float32)"
            ]
          },
          "metadata": {
            "tags": []
          },
          "execution_count": 19
        }
      ]
    },
    {
      "cell_type": "code",
      "metadata": {
        "id": "5uMDjd2gFoaB",
        "outputId": "e5957054-b518-49d9-dbbf-b34cd2489187",
        "colab": {
          "base_uri": "https://localhost:8080/",
          "height": 208
        }
      },
      "source": [
        "a = data_train[\"sub_cat_0\"].astype('category')\n",
        "plt.scatter(x=xs, y=ys, c=a.cat.codes,s=1, cmap='Spectral')\n",
        "plt.show()"
      ],
      "execution_count": null,
      "outputs": [
        {
          "output_type": "error",
          "ename": "NameError",
          "evalue": "ignored",
          "traceback": [
            "\u001b[0;31m---------------------------------------------------------------------------\u001b[0m",
            "\u001b[0;31mNameError\u001b[0m                                 Traceback (most recent call last)",
            "\u001b[0;32m<ipython-input-2-df3cb152cab9>\u001b[0m in \u001b[0;36m<module>\u001b[0;34m()\u001b[0m\n\u001b[0;32m----> 1\u001b[0;31m \u001b[0ma\u001b[0m \u001b[0;34m=\u001b[0m \u001b[0mdata_train\u001b[0m\u001b[0;34m[\u001b[0m\u001b[0;34m\"sub_cat_0\"\u001b[0m\u001b[0;34m]\u001b[0m\u001b[0;34m.\u001b[0m\u001b[0mastype\u001b[0m\u001b[0;34m(\u001b[0m\u001b[0;34m'category'\u001b[0m\u001b[0;34m)\u001b[0m\u001b[0;34m\u001b[0m\u001b[0;34m\u001b[0m\u001b[0m\n\u001b[0m\u001b[1;32m      2\u001b[0m \u001b[0mplt\u001b[0m\u001b[0;34m.\u001b[0m\u001b[0mscatter\u001b[0m\u001b[0;34m(\u001b[0m\u001b[0mx\u001b[0m\u001b[0;34m=\u001b[0m\u001b[0mxs\u001b[0m\u001b[0;34m,\u001b[0m \u001b[0my\u001b[0m\u001b[0;34m=\u001b[0m\u001b[0mys\u001b[0m\u001b[0;34m,\u001b[0m \u001b[0mc\u001b[0m\u001b[0;34m=\u001b[0m\u001b[0ma\u001b[0m\u001b[0;34m.\u001b[0m\u001b[0mcat\u001b[0m\u001b[0;34m.\u001b[0m\u001b[0mcodes\u001b[0m\u001b[0;34m,\u001b[0m\u001b[0ms\u001b[0m\u001b[0;34m=\u001b[0m\u001b[0;36m1\u001b[0m\u001b[0;34m,\u001b[0m \u001b[0mcmap\u001b[0m\u001b[0;34m=\u001b[0m\u001b[0;34m'Spectral'\u001b[0m\u001b[0;34m)\u001b[0m\u001b[0;34m\u001b[0m\u001b[0;34m\u001b[0m\u001b[0m\n\u001b[1;32m      3\u001b[0m \u001b[0mplt\u001b[0m\u001b[0;34m.\u001b[0m\u001b[0mshow\u001b[0m\u001b[0;34m(\u001b[0m\u001b[0;34m)\u001b[0m\u001b[0;34m\u001b[0m\u001b[0;34m\u001b[0m\u001b[0m\n",
            "\u001b[0;31mNameError\u001b[0m: name 'data_train' is not defined"
          ]
        }
      ]
    },
    {
      "cell_type": "markdown",
      "metadata": {
        "id": "ABSL3X57fj5S"
      },
      "source": [
        "## UMAP Application"
      ]
    },
    {
      "cell_type": "code",
      "metadata": {
        "id": "-hw_f0dkedzL",
        "outputId": "2dff6c89-fc7e-4e7f-b6a0-e5e3a9165494",
        "colab": {
          "base_uri": "https://localhost:8080/",
          "height": 172
        }
      },
      "source": [
        "umap = UMAP(n_components=2, metric='cosine', n_neighbors=100, min_dist=0)"
      ],
      "execution_count": null,
      "outputs": [
        {
          "output_type": "error",
          "ename": "NameError",
          "evalue": "ignored",
          "traceback": [
            "\u001b[0;31m---------------------------------------------------------------------------\u001b[0m",
            "\u001b[0;31mNameError\u001b[0m                                 Traceback (most recent call last)",
            "\u001b[0;32m<ipython-input-1-8d08a565d3ae>\u001b[0m in \u001b[0;36m<module>\u001b[0;34m()\u001b[0m\n\u001b[0;32m----> 1\u001b[0;31m \u001b[0mumap\u001b[0m \u001b[0;34m=\u001b[0m \u001b[0mUMAP\u001b[0m\u001b[0;34m(\u001b[0m\u001b[0mn_components\u001b[0m\u001b[0;34m=\u001b[0m\u001b[0;36m2\u001b[0m\u001b[0;34m,\u001b[0m \u001b[0mmetric\u001b[0m\u001b[0;34m=\u001b[0m\u001b[0;34m'cosine'\u001b[0m\u001b[0;34m,\u001b[0m \u001b[0mn_neighbors\u001b[0m\u001b[0;34m=\u001b[0m\u001b[0;36m100\u001b[0m\u001b[0;34m,\u001b[0m \u001b[0mspread\u001b[0m\u001b[0;34m=\u001b[0m\u001b[0;36m0.1\u001b[0m\u001b[0;34m)\u001b[0m\u001b[0;34m\u001b[0m\u001b[0;34m\u001b[0m\u001b[0m\n\u001b[0m",
            "\u001b[0;31mNameError\u001b[0m: name 'UMAP' is not defined"
          ]
        }
      ]
    },
    {
      "cell_type": "code",
      "metadata": {
        "id": "1JPlQSESe4NA",
        "outputId": "b5b5b2e7-05a0-44b9-f2c8-e0db504e6a73",
        "colab": {
          "base_uri": "https://localhost:8080/",
          "height": 53
        }
      },
      "source": [
        "X_umap = umap.fit_transform(X_scale)"
      ],
      "execution_count": null,
      "outputs": [
        {
          "output_type": "stream",
          "text": [
            "/usr/local/lib/python3.6/dist-packages/umap/umap_.py:1158: RuntimeWarning: divide by zero encountered in power\n",
            "  return 1.0 / (1.0 + a * x ** (2 * b))\n"
          ],
          "name": "stderr"
        }
      ]
    },
    {
      "cell_type": "code",
      "metadata": {
        "id": "kdgi_hDzVFRf",
        "outputId": "6e5cb2a3-7408-4e18-f69a-a0b569c20df2",
        "colab": {
          "base_uri": "https://localhost:8080/",
          "height": 35
        }
      },
      "source": [
        "X_umap.shape"
      ],
      "execution_count": null,
      "outputs": [
        {
          "output_type": "execute_result",
          "data": {
            "text/plain": [
              "(11270, 2)"
            ]
          },
          "metadata": {
            "tags": []
          },
          "execution_count": 22
        }
      ]
    },
    {
      "cell_type": "code",
      "metadata": {
        "id": "f0NO7gGoWPcv",
        "outputId": "4b3172a5-175d-45e8-9c51-13b376067384",
        "colab": {
          "base_uri": "https://localhost:8080/",
          "height": 35
        }
      },
      "source": [
        "11270/7"
      ],
      "execution_count": null,
      "outputs": [
        {
          "output_type": "execute_result",
          "data": {
            "text/plain": [
              "1610.0"
            ]
          },
          "metadata": {
            "tags": []
          },
          "execution_count": 28
        }
      ]
    },
    {
      "cell_type": "code",
      "metadata": {
        "id": "LVKaEDMzfQZP"
      },
      "source": [
        "a = data_train[\"sub_cat_0\"].astype('category')\n",
        "plt.scatter(X_umap[:, 0], X_umap[:, 1], c=a.cat.codes,s=1, cmap='Spectral')\n",
        "plt.show()"
      ],
      "execution_count": null,
      "outputs": []
    },
    {
      "cell_type": "markdown",
      "metadata": {
        "id": "frmC9f_Tf44i"
      },
      "source": [
        "## PCA"
      ]
    },
    {
      "cell_type": "code",
      "metadata": {
        "id": "rjVFGg6cfozi"
      },
      "source": [
        "pca = PCA()\n",
        "pca.fit(X_scale)\n",
        "pca_variance = np.cumsum(pca.explained_variance_ratio_)"
      ],
      "execution_count": null,
      "outputs": []
    },
    {
      "cell_type": "code",
      "metadata": {
        "id": "tXWPGdL-fpIs"
      },
      "source": [
        "plt.figure(figsize=(8, 6))\n",
        "plt.bar(range(len(pca_variance)), pca_variance, alpha=0.5, align='center', label='Cumulative Sum variance ratio')\n",
        "plt.legend()\n",
        "plt.ylabel('Cumulative Sum Variance ratio')\n",
        "plt.xlabel('Principal components')\n",
        "plt.show()"
      ],
      "execution_count": null,
      "outputs": []
    },
    {
      "cell_type": "code",
      "metadata": {
        "id": "fY_euiUxfolI"
      },
      "source": [
        "pca = PCA(400)\n",
        "X_pca = pca.fit_transform(X_scale) "
      ],
      "execution_count": null,
      "outputs": []
    },
    {
      "cell_type": "markdown",
      "metadata": {
        "id": "xseJrUEZtd63"
      },
      "source": [
        "# Clustering Methods"
      ]
    },
    {
      "cell_type": "markdown",
      "metadata": {
        "id": "fdBRWzOtLPhp"
      },
      "source": [
        "## Spectral Clustering\n",
        "\n"
      ]
    },
    {
      "cell_type": "code",
      "metadata": {
        "id": "_m1Y_CZ5hRbo"
      },
      "source": [
        ""
      ],
      "execution_count": null,
      "outputs": []
    },
    {
      "cell_type": "code",
      "metadata": {
        "id": "R-QyTywKLTL6"
      },
      "source": [
        "from sklearn.cluster import SpectralClustering\n",
        "import pyamg"
      ],
      "execution_count": null,
      "outputs": []
    },
    {
      "cell_type": "code",
      "metadata": {
        "id": "1KIygjqzmBsI",
        "outputId": "c7950d7b-dbbd-4cd9-c605-01b8853925b8",
        "colab": {
          "base_uri": "https://localhost:8080/",
          "height": 358
        }
      },
      "source": [
        "spectral_cluter = SpectralClustering(n_clusters=7, eigen_solver='amg').fit(X_scale[:1000])"
      ],
      "execution_count": null,
      "outputs": [
        {
          "output_type": "stream",
          "text": [
            "/usr/local/lib/python3.6/dist-packages/sklearn/manifold/_spectral_embedding.py:236: UserWarning: Graph is not fully connected, spectral embedding may not work as expected.\n",
            "  warnings.warn(\"Graph is not fully connected, spectral embedding\"\n"
          ],
          "name": "stderr"
        },
        {
          "output_type": "error",
          "ename": "KeyboardInterrupt",
          "evalue": "ignored",
          "traceback": [
            "\u001b[0;31m---------------------------------------------------------------------------\u001b[0m",
            "\u001b[0;31mKeyboardInterrupt\u001b[0m                         Traceback (most recent call last)",
            "\u001b[0;32m<ipython-input-29-a69adf70f9d3>\u001b[0m in \u001b[0;36m<module>\u001b[0;34m()\u001b[0m\n\u001b[0;32m----> 1\u001b[0;31m \u001b[0mspectral_cluter\u001b[0m \u001b[0;34m=\u001b[0m \u001b[0mSpectralClustering\u001b[0m\u001b[0;34m(\u001b[0m\u001b[0mn_clusters\u001b[0m\u001b[0;34m=\u001b[0m\u001b[0;36m7\u001b[0m\u001b[0;34m,\u001b[0m \u001b[0meigen_solver\u001b[0m\u001b[0;34m=\u001b[0m\u001b[0;34m'amg'\u001b[0m\u001b[0;34m)\u001b[0m\u001b[0;34m.\u001b[0m\u001b[0mfit\u001b[0m\u001b[0;34m(\u001b[0m\u001b[0mX_scale\u001b[0m\u001b[0;34m[\u001b[0m\u001b[0;34m:\u001b[0m\u001b[0;36m1000\u001b[0m\u001b[0;34m]\u001b[0m\u001b[0;34m)\u001b[0m\u001b[0;34m\u001b[0m\u001b[0;34m\u001b[0m\u001b[0m\n\u001b[0m",
            "\u001b[0;32m/usr/local/lib/python3.6/dist-packages/sklearn/cluster/_spectral.py\u001b[0m in \u001b[0;36mfit\u001b[0;34m(self, X, y)\u001b[0m\n\u001b[1;32m    518\u001b[0m                                            \u001b[0mn_init\u001b[0m\u001b[0;34m=\u001b[0m\u001b[0mself\u001b[0m\u001b[0;34m.\u001b[0m\u001b[0mn_init\u001b[0m\u001b[0;34m,\u001b[0m\u001b[0;34m\u001b[0m\u001b[0;34m\u001b[0m\u001b[0m\n\u001b[1;32m    519\u001b[0m                                            \u001b[0meigen_tol\u001b[0m\u001b[0;34m=\u001b[0m\u001b[0mself\u001b[0m\u001b[0;34m.\u001b[0m\u001b[0meigen_tol\u001b[0m\u001b[0;34m,\u001b[0m\u001b[0;34m\u001b[0m\u001b[0;34m\u001b[0m\u001b[0m\n\u001b[0;32m--> 520\u001b[0;31m                                            assign_labels=self.assign_labels)\n\u001b[0m\u001b[1;32m    521\u001b[0m         \u001b[0;32mreturn\u001b[0m \u001b[0mself\u001b[0m\u001b[0;34m\u001b[0m\u001b[0;34m\u001b[0m\u001b[0m\n\u001b[1;32m    522\u001b[0m \u001b[0;34m\u001b[0m\u001b[0m\n",
            "\u001b[0;32m/usr/local/lib/python3.6/dist-packages/sklearn/cluster/_spectral.py\u001b[0m in \u001b[0;36mspectral_clustering\u001b[0;34m(affinity, n_clusters, n_components, eigen_solver, random_state, n_init, eigen_tol, assign_labels)\u001b[0m\n\u001b[1;32m    262\u001b[0m                               \u001b[0meigen_solver\u001b[0m\u001b[0;34m=\u001b[0m\u001b[0meigen_solver\u001b[0m\u001b[0;34m,\u001b[0m\u001b[0;34m\u001b[0m\u001b[0;34m\u001b[0m\u001b[0m\n\u001b[1;32m    263\u001b[0m                               \u001b[0mrandom_state\u001b[0m\u001b[0;34m=\u001b[0m\u001b[0mrandom_state\u001b[0m\u001b[0;34m,\u001b[0m\u001b[0;34m\u001b[0m\u001b[0;34m\u001b[0m\u001b[0m\n\u001b[0;32m--> 264\u001b[0;31m                               eigen_tol=eigen_tol, drop_first=False)\n\u001b[0m\u001b[1;32m    265\u001b[0m \u001b[0;34m\u001b[0m\u001b[0m\n\u001b[1;32m    266\u001b[0m     \u001b[0;32mif\u001b[0m \u001b[0massign_labels\u001b[0m \u001b[0;34m==\u001b[0m \u001b[0;34m'kmeans'\u001b[0m\u001b[0;34m:\u001b[0m\u001b[0;34m\u001b[0m\u001b[0;34m\u001b[0m\u001b[0m\n",
            "\u001b[0;32m/usr/local/lib/python3.6/dist-packages/sklearn/manifold/_spectral_embedding.py\u001b[0m in \u001b[0;36mspectral_embedding\u001b[0;34m(adjacency, n_components, eigen_solver, random_state, eigen_tol, norm_laplacian, drop_first)\u001b[0m\n\u001b[1;32m    270\u001b[0m             _, diffusion_map = eigsh(\n\u001b[1;32m    271\u001b[0m                 \u001b[0mlaplacian\u001b[0m\u001b[0;34m,\u001b[0m \u001b[0mk\u001b[0m\u001b[0;34m=\u001b[0m\u001b[0mn_components\u001b[0m\u001b[0;34m,\u001b[0m \u001b[0msigma\u001b[0m\u001b[0;34m=\u001b[0m\u001b[0;36m1.0\u001b[0m\u001b[0;34m,\u001b[0m \u001b[0mwhich\u001b[0m\u001b[0;34m=\u001b[0m\u001b[0;34m'LM'\u001b[0m\u001b[0;34m,\u001b[0m\u001b[0;34m\u001b[0m\u001b[0;34m\u001b[0m\u001b[0m\n\u001b[0;32m--> 272\u001b[0;31m                 tol=eigen_tol, v0=v0)\n\u001b[0m\u001b[1;32m    273\u001b[0m             \u001b[0membedding\u001b[0m \u001b[0;34m=\u001b[0m \u001b[0mdiffusion_map\u001b[0m\u001b[0;34m.\u001b[0m\u001b[0mT\u001b[0m\u001b[0;34m[\u001b[0m\u001b[0mn_components\u001b[0m\u001b[0;34m:\u001b[0m\u001b[0;34m:\u001b[0m\u001b[0;34m-\u001b[0m\u001b[0;36m1\u001b[0m\u001b[0;34m]\u001b[0m\u001b[0;34m\u001b[0m\u001b[0;34m\u001b[0m\u001b[0m\n\u001b[1;32m    274\u001b[0m             \u001b[0;32mif\u001b[0m \u001b[0mnorm_laplacian\u001b[0m\u001b[0;34m:\u001b[0m\u001b[0;34m\u001b[0m\u001b[0;34m\u001b[0m\u001b[0m\n",
            "\u001b[0;32m/usr/local/lib/python3.6/dist-packages/scipy/sparse/linalg/eigen/arpack/arpack.py\u001b[0m in \u001b[0;36meigsh\u001b[0;34m(A, k, M, sigma, which, v0, ncv, maxiter, tol, return_eigenvectors, Minv, OPinv, mode)\u001b[0m\n\u001b[1;32m   1685\u001b[0m     \u001b[0;32mwith\u001b[0m \u001b[0m_ARPACK_LOCK\u001b[0m\u001b[0;34m:\u001b[0m\u001b[0;34m\u001b[0m\u001b[0;34m\u001b[0m\u001b[0m\n\u001b[1;32m   1686\u001b[0m         \u001b[0;32mwhile\u001b[0m \u001b[0;32mnot\u001b[0m \u001b[0mparams\u001b[0m\u001b[0;34m.\u001b[0m\u001b[0mconverged\u001b[0m\u001b[0;34m:\u001b[0m\u001b[0;34m\u001b[0m\u001b[0;34m\u001b[0m\u001b[0m\n\u001b[0;32m-> 1687\u001b[0;31m             \u001b[0mparams\u001b[0m\u001b[0;34m.\u001b[0m\u001b[0miterate\u001b[0m\u001b[0;34m(\u001b[0m\u001b[0;34m)\u001b[0m\u001b[0;34m\u001b[0m\u001b[0;34m\u001b[0m\u001b[0m\n\u001b[0m\u001b[1;32m   1688\u001b[0m \u001b[0;34m\u001b[0m\u001b[0m\n\u001b[1;32m   1689\u001b[0m         \u001b[0;32mreturn\u001b[0m \u001b[0mparams\u001b[0m\u001b[0;34m.\u001b[0m\u001b[0mextract\u001b[0m\u001b[0;34m(\u001b[0m\u001b[0mreturn_eigenvectors\u001b[0m\u001b[0;34m)\u001b[0m\u001b[0;34m\u001b[0m\u001b[0;34m\u001b[0m\u001b[0m\n",
            "\u001b[0;32m/usr/local/lib/python3.6/dist-packages/scipy/sparse/linalg/eigen/arpack/arpack.py\u001b[0m in \u001b[0;36miterate\u001b[0;34m(self)\u001b[0m\n\u001b[1;32m    558\u001b[0m             \u001b[0;32melse\u001b[0m\u001b[0;34m:\u001b[0m\u001b[0;34m\u001b[0m\u001b[0;34m\u001b[0m\u001b[0m\n\u001b[1;32m    559\u001b[0m                 \u001b[0mBxslice\u001b[0m \u001b[0;34m=\u001b[0m \u001b[0mslice\u001b[0m\u001b[0;34m(\u001b[0m\u001b[0mself\u001b[0m\u001b[0;34m.\u001b[0m\u001b[0mipntr\u001b[0m\u001b[0;34m[\u001b[0m\u001b[0;36m2\u001b[0m\u001b[0;34m]\u001b[0m \u001b[0;34m-\u001b[0m \u001b[0;36m1\u001b[0m\u001b[0;34m,\u001b[0m \u001b[0mself\u001b[0m\u001b[0;34m.\u001b[0m\u001b[0mipntr\u001b[0m\u001b[0;34m[\u001b[0m\u001b[0;36m2\u001b[0m\u001b[0;34m]\u001b[0m \u001b[0;34m-\u001b[0m \u001b[0;36m1\u001b[0m \u001b[0;34m+\u001b[0m \u001b[0mself\u001b[0m\u001b[0;34m.\u001b[0m\u001b[0mn\u001b[0m\u001b[0;34m)\u001b[0m\u001b[0;34m\u001b[0m\u001b[0;34m\u001b[0m\u001b[0m\n\u001b[0;32m--> 560\u001b[0;31m                 \u001b[0mself\u001b[0m\u001b[0;34m.\u001b[0m\u001b[0mworkd\u001b[0m\u001b[0;34m[\u001b[0m\u001b[0myslice\u001b[0m\u001b[0;34m]\u001b[0m \u001b[0;34m=\u001b[0m \u001b[0mself\u001b[0m\u001b[0;34m.\u001b[0m\u001b[0mOPa\u001b[0m\u001b[0;34m(\u001b[0m\u001b[0mself\u001b[0m\u001b[0;34m.\u001b[0m\u001b[0mworkd\u001b[0m\u001b[0;34m[\u001b[0m\u001b[0mBxslice\u001b[0m\u001b[0;34m]\u001b[0m\u001b[0;34m)\u001b[0m\u001b[0;34m\u001b[0m\u001b[0;34m\u001b[0m\u001b[0m\n\u001b[0m\u001b[1;32m    561\u001b[0m         \u001b[0;32melif\u001b[0m \u001b[0mself\u001b[0m\u001b[0;34m.\u001b[0m\u001b[0mido\u001b[0m \u001b[0;34m==\u001b[0m \u001b[0;36m2\u001b[0m\u001b[0;34m:\u001b[0m\u001b[0;34m\u001b[0m\u001b[0;34m\u001b[0m\u001b[0m\n\u001b[1;32m    562\u001b[0m             \u001b[0mself\u001b[0m\u001b[0;34m.\u001b[0m\u001b[0mworkd\u001b[0m\u001b[0;34m[\u001b[0m\u001b[0myslice\u001b[0m\u001b[0;34m]\u001b[0m \u001b[0;34m=\u001b[0m \u001b[0mself\u001b[0m\u001b[0;34m.\u001b[0m\u001b[0mB\u001b[0m\u001b[0;34m(\u001b[0m\u001b[0mself\u001b[0m\u001b[0;34m.\u001b[0m\u001b[0mworkd\u001b[0m\u001b[0;34m[\u001b[0m\u001b[0mxslice\u001b[0m\u001b[0;34m]\u001b[0m\u001b[0;34m)\u001b[0m\u001b[0;34m\u001b[0m\u001b[0;34m\u001b[0m\u001b[0m\n",
            "\u001b[0;32m/usr/local/lib/python3.6/dist-packages/scipy/sparse/linalg/interface.py\u001b[0m in \u001b[0;36mmatvec\u001b[0;34m(self, x)\u001b[0m\n\u001b[1;32m    232\u001b[0m             \u001b[0my\u001b[0m \u001b[0;34m=\u001b[0m \u001b[0masmatrix\u001b[0m\u001b[0;34m(\u001b[0m\u001b[0my\u001b[0m\u001b[0;34m)\u001b[0m\u001b[0;34m\u001b[0m\u001b[0;34m\u001b[0m\u001b[0m\n\u001b[1;32m    233\u001b[0m         \u001b[0;32melse\u001b[0m\u001b[0;34m:\u001b[0m\u001b[0;34m\u001b[0m\u001b[0;34m\u001b[0m\u001b[0m\n\u001b[0;32m--> 234\u001b[0;31m             \u001b[0my\u001b[0m \u001b[0;34m=\u001b[0m \u001b[0mnp\u001b[0m\u001b[0;34m.\u001b[0m\u001b[0masarray\u001b[0m\u001b[0;34m(\u001b[0m\u001b[0my\u001b[0m\u001b[0;34m)\u001b[0m\u001b[0;34m\u001b[0m\u001b[0;34m\u001b[0m\u001b[0m\n\u001b[0m\u001b[1;32m    235\u001b[0m \u001b[0;34m\u001b[0m\u001b[0m\n\u001b[1;32m    236\u001b[0m         \u001b[0;32mif\u001b[0m \u001b[0mx\u001b[0m\u001b[0;34m.\u001b[0m\u001b[0mndim\u001b[0m \u001b[0;34m==\u001b[0m \u001b[0;36m1\u001b[0m\u001b[0;34m:\u001b[0m\u001b[0;34m\u001b[0m\u001b[0;34m\u001b[0m\u001b[0m\n",
            "\u001b[0;31mKeyboardInterrupt\u001b[0m: "
          ]
        }
      ]
    },
    {
      "cell_type": "code",
      "metadata": {
        "id": "wkNJjvQmiJeg"
      },
      "source": [
        ""
      ],
      "execution_count": null,
      "outputs": []
    }
  ]
}